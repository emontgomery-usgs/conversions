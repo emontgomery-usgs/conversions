{
 "cells": [
  {
   "cell_type": "markdown",
   "metadata": {
    "collapsed": true
   },
   "source": [
    "# Query `apiso:ServiceType` on geoport pycsw "
   ]
  },
  {
   "cell_type": "code",
   "execution_count": 1,
   "metadata": {},
   "outputs": [],
   "source": [
    "from owslib.csw import CatalogueServiceWeb\n",
    "from owslib import fes\n",
    "import numpy as np"
   ]
  },
  {
   "cell_type": "code",
   "execution_count": 2,
   "metadata": {},
   "outputs": [
    {
     "name": "stdout",
     "output_type": "stream",
     "text": [
      "2.0.2\n"
     ]
    }
   ],
   "source": [
    "#endpoint = 'http://geoport.whoi.edu/csw' \n",
    "endpoint = 'https://gamone.whoi.edu/csw'\n",
    "#endpoint = 'http://data.nodc.noaa.gov/geoportal/csw'\n",
    "#endpoint = 'http://data.ioos.us/csw' \n",
    "#endpoint = 'https://dev-catalog.ioos.us/csw'\n",
    "csw = CatalogueServiceWeb(endpoint,timeout=60)\n",
    "print(csw.version)"
   ]
  },
  {
   "cell_type": "code",
   "execution_count": 3,
   "metadata": {
    "scrolled": true
   },
   "outputs": [
    {
     "data": {
      "text/plain": [
       "[Constraint: AdditionalQueryables - ['apiso:AccessConstraints', 'apiso:Classification', 'apiso:ConditionApplyingToAccessAndUse', 'apiso:Contributor', 'apiso:Creator', 'apiso:Degree', 'apiso:Lineage', 'apiso:OtherConstraints', 'apiso:Publisher', 'apiso:Relation', 'apiso:ResponsiblePartyRole', 'apiso:SpecificationDate', 'apiso:SpecificationDateType', 'apiso:SpecificationTitle'],\n",
       " Constraint: SupportedDublinCoreQueryables - ['csw:AnyText', 'dc:contributor', 'dc:creator', 'dc:date', 'dc:format', 'dc:identifier', 'dc:language', 'dc:publisher', 'dc:relation', 'dc:rights', 'dc:source', 'dc:subject', 'dc:title', 'dc:type', 'dct:abstract', 'dct:alternative', 'dct:modified', 'dct:spatial', 'ows:BoundingBox'],\n",
       " Constraint: SupportedISOQueryables - ['apiso:Abstract', 'apiso:AlternateTitle', 'apiso:AnyText', 'apiso:BoundingBox', 'apiso:CRS', 'apiso:CouplingType', 'apiso:CreationDate', 'apiso:Denominator', 'apiso:DistanceUOM', 'apiso:DistanceValue', 'apiso:Format', 'apiso:GeographicDescriptionCode', 'apiso:HasSecurityConstraints', 'apiso:Identifier', 'apiso:KeywordType', 'apiso:Language', 'apiso:Modified', 'apiso:OperatesOn', 'apiso:OperatesOnIdentifier', 'apiso:OperatesOnName', 'apiso:Operation', 'apiso:OrganisationName', 'apiso:ParentIdentifier', 'apiso:PublicationDate', 'apiso:ResourceLanguage', 'apiso:RevisionDate', 'apiso:ServiceType', 'apiso:ServiceTypeVersion', 'apiso:Subject', 'apiso:TempExtent_begin', 'apiso:TempExtent_end', 'apiso:Title', 'apiso:TopicCategory', 'apiso:Type']]"
      ]
     },
     "execution_count": 3,
     "metadata": {},
     "output_type": "execute_result"
    }
   ],
   "source": [
    "csw.get_operation_by_name('GetRecords').constraints"
   ]
  },
  {
   "cell_type": "code",
   "execution_count": 4,
   "metadata": {},
   "outputs": [
    {
     "name": "stdout",
     "output_type": "stream",
     "text": [
      "[None, 'Google GCS,Open Geospatial Consortium Web Map Service (WMS),Open Geospatial Consortium Sensor Observation Service (SOS),THREDDS NetCDF Subset Service,THREDDS HTTP Service', 'OGC:WMS,OGC:WCS', 'OPeNDAP:OPeNDAP', 'THREDDS OPeNDAP', 'THREDDS OPeNDAP,Open Geospatial Consortium Web Map Service (WMS),THREDDS NetCDF Subset Service', 'THREDDS OPeNDAP,Open Geospatial Consortium Web Map Service (WMS),THREDDS NetCDF Subset Service,THREDDS HTTP Service']\n"
     ]
    }
   ],
   "source": [
    "try:\n",
    "    csw.get_operation_by_name('GetDomain')\n",
    "    csw.getdomain('apiso:ServiceType', 'property')\n",
    "    print(csw.results['values'])\n",
    "except:\n",
    "    print('GetDomain not supported')"
   ]
  },
  {
   "cell_type": "code",
   "execution_count": 5,
   "metadata": {},
   "outputs": [],
   "source": [
    "val = 'SANDWICH'\n",
    "#val = 'COADS'\n",
    "#val = 'William Jones'\n",
    "filter1 = fes.PropertyIsLike(propertyname='apiso:AnyText',literal=('*%s*' % val),\n",
    "                        escapeChar='\\\\',wildCard='*',singleChar='?')\n",
    "filter_list = [ filter1 ]"
   ]
  },
  {
   "cell_type": "code",
   "execution_count": 6,
   "metadata": {},
   "outputs": [
    {
     "name": "stdout",
     "output_type": "stream",
     "text": [
      "10\n",
      "USGS-CMG time-series data: SANDWICH2016 - 1059 - 10591dw-a\n",
      "USGS-CMG time-series data: SANDWICH2016 - 1059 - 10591dwvs-cal\n",
      "USGS-CMG time-series data: SANDWICH2016 - 1059 - 10591dwvs-cal\n",
      "USGS-CMG time-series data: SANDWICH2016 - 1060 - 10601hwlb-a\n",
      "USGS-CMG time-series data: SANDWICH2016 - 1060 - 10602dw-a\n",
      "USGS-CMG time-series data: SANDWICH2016 - 1061 - 10612dw-a\n",
      "USGS-CMG time-series data: SANDWICH2016 - 1062 - 10622dw-a\n",
      "USGS-CMG time-series data: SANDWICH2016 - 1063 - 10631whV-a\n",
      "USGS-CMG time-series data: SANDWICH2016 - 1063 - 10632mc-a\n",
      "USGS-CMG time-series data: SANDWICH2016 - 1063 - 10633ecn-a\n"
     ]
    }
   ],
   "source": [
    "csw.getrecords2(constraints=filter_list,maxrecords=15,esn='full')\n",
    "print(len(csw.records.keys()))\n",
    "for rec in list(csw.records.keys()):\n",
    "    print(csw.records[rec].title)\n",
    "    "
   ]
  },
  {
   "cell_type": "code",
   "execution_count": 7,
   "metadata": {},
   "outputs": [
    {
     "name": "stdout",
     "output_type": "stream",
     "text": [
      "https://gamone.whoi.edu/thredds/dodsC/silt/usgs/Projects/stellwagen/CF-1.6/SANDWICH2016/10591dw-a.nc\n",
      "https://gamone.whoi.edu/thredds/dodsC/silt/usgs/Projects/stellwagen/CF-1.6/SANDWICH2016/10591dwvs-cal.nc\n",
      "https://gamone.whoi.edu/thredds/dodsC/silt/usgs/Projects/stellwagen/CF-1.6/SANDWICH2016/10591dwvs-cal_z1.nc\n",
      "https://gamone.whoi.edu/thredds/dodsC/silt/usgs/Projects/stellwagen/CF-1.6/SANDWICH2016/10601hwlb-a.nc\n",
      "https://gamone.whoi.edu/thredds/dodsC/silt/usgs/Projects/stellwagen/CF-1.6/SANDWICH2016/10602dw-a.nc\n",
      "https://gamone.whoi.edu/thredds/dodsC/silt/usgs/Projects/stellwagen/CF-1.6/SANDWICH2016/10612dw-a.nc\n",
      "https://gamone.whoi.edu/thredds/dodsC/silt/usgs/Projects/stellwagen/CF-1.6/SANDWICH2016/10622dw-a.nc\n",
      "https://gamone.whoi.edu/thredds/dodsC/silt/usgs/Projects/stellwagen/CF-1.6/SANDWICH2016/10631whV-a.nc\n",
      "https://gamone.whoi.edu/thredds/dodsC/silt/usgs/Projects/stellwagen/CF-1.6/SANDWICH2016/10632mc-a.nc\n",
      "https://gamone.whoi.edu/thredds/dodsC/silt/usgs/Projects/stellwagen/CF-1.6/SANDWICH2016/10633ecn-a.nc\n"
     ]
    }
   ],
   "source": [
    "for rec in list(csw.records.keys()):\n",
    "    print(csw.records[rec].references[2]['url'])"
   ]
  },
  {
   "cell_type": "code",
   "execution_count": 8,
   "metadata": {},
   "outputs": [
    {
     "name": "stdout",
     "output_type": "stream",
     "text": [
      "USGS-CMG time-series data: SANDWICH2016 - 1063 - 10633ecn-a\n"
     ]
    },
    {
     "data": {
      "text/plain": [
       "[{'scheme': 'WWW:LINK',\n",
       "  'url': 'https://gamone.whoi.edu/thredds/dodsC/silt/usgs/Projects/stellwagen/CF-1.6/SANDWICH2016/10633ecn-a.nc.html'},\n",
       " {'scheme': 'WWW:LINK',\n",
       "  'url': 'http://www.ncdc.noaa.gov/oa/wct/wct-jnlp-beta.php?singlefile=https://gamone.whoi.edu/thredds/dodsC/silt/usgs/Projects/stellwagen/CF-1.6/SANDWICH2016/10633ecn-a.nc'},\n",
       " {'scheme': 'OPeNDAP:OPeNDAP',\n",
       "  'url': 'https://gamone.whoi.edu/thredds/dodsC/silt/usgs/Projects/stellwagen/CF-1.6/SANDWICH2016/10633ecn-a.nc'},\n",
       " {'scheme': 'OGC:WMS',\n",
       "  'url': 'https://gamone.whoi.edu/thredds/wms/silt/usgs/Projects/stellwagen/CF-1.6/SANDWICH2016/10633ecn-a.nc?service=WMS&version=1.3.0&request=GetCapabilities'},\n",
       " {'scheme': 'UNIDATA:NCSS',\n",
       "  'url': 'https://gamone.whoi.edu/thredds/ncss/grid/silt/usgs/Projects/stellwagen/CF-1.6/SANDWICH2016/10633ecn-a.nc/dataset.html'},\n",
       " {'scheme': 'file',\n",
       "  'url': 'https://gamone.whoi.edu/thredds/fileServer/silt/usgs/Projects/stellwagen/CF-1.6/SANDWICH2016/10633ecn-a.nc'}]"
      ]
     },
     "execution_count": 8,
     "metadata": {},
     "output_type": "execute_result"
    }
   ],
   "source": [
    "choice=np.random.choice(list(csw.records.keys()))\n",
    "print(csw.records[choice].title)\n",
    "csw.records[choice].references"
   ]
  },
  {
   "cell_type": "code",
   "execution_count": 9,
   "metadata": {},
   "outputs": [
    {
     "data": {
      "text/plain": [
       "b'<csw:GetRecords xmlns:csw=\"http://www.opengis.net/cat/csw/2.0.2\" xmlns:ogc=\"http://www.opengis.net/ogc\" xmlns:ows=\"http://www.opengis.net/ows\" xmlns:xsi=\"http://www.w3.org/2001/XMLSchema-instance\" outputSchema=\"http://www.opengis.net/cat/csw/2.0.2\" outputFormat=\"application/xml\" version=\"2.0.2\" service=\"CSW\" resultType=\"results\" maxRecords=\"15\" xsi:schemaLocation=\"http://www.opengis.net/cat/csw/2.0.2 http://schemas.opengis.net/csw/2.0.2/CSW-discovery.xsd\"><csw:Query typeNames=\"csw:Record\"><csw:ElementSetName>full</csw:ElementSetName><csw:Constraint version=\"1.1.0\"><ogc:Filter><ogc:PropertyIsLike wildCard=\"*\" singleChar=\"?\" escapeChar=\"\\\\\"><ogc:PropertyName>apiso:AnyText</ogc:PropertyName><ogc:Literal>*SANDWICH*</ogc:Literal></ogc:PropertyIsLike></ogc:Filter></csw:Constraint></csw:Query></csw:GetRecords>'"
      ]
     },
     "execution_count": 9,
     "metadata": {},
     "output_type": "execute_result"
    }
   ],
   "source": [
    "csw.request"
   ]
  },
  {
   "cell_type": "code",
   "execution_count": 10,
   "metadata": {},
   "outputs": [
    {
     "data": {
      "text/plain": [
       "b'<csw:Record xmlns:csw=\"http://www.opengis.net/cat/csw/2.0.2\" xmlns:dc=\"http://purl.org/dc/elements/1.1/\" xmlns:dct=\"http://purl.org/dc/terms/\" xmlns:gmd=\"http://www.isotc211.org/2005/gmd\" xmlns:gml=\"http://www.opengis.net/gml\" xmlns:ows=\"http://www.opengis.net/ows\" xmlns:xs=\"http://www.w3.org/2001/XMLSchema\" xmlns:xsi=\"http://www.w3.org/2001/XMLSchema-instance\"><dc:identifier>gov.usgs.cmgp:10633ecn-a</dc:identifier><dc:title>USGS-CMG time-series data: SANDWICH2016 - 1063 - 10633ecn-a</dc:title><dc:type>dataset</dc:type><dc:subject>Oceans &gt; Ocean Pressure &gt; Water Pressure</dc:subject><dc:subject>Oceans &gt; Ocean Temperature &gt; Water Temperature</dc:subject><dc:subject>Oceans &gt; Salinity/Density &gt; Conductivity</dc:subject><dc:subject>Oceans &gt; Salinity/Density &gt; Salinity</dc:subject><dc:subject>U.S. Geological Survey Oceanographic Time-Series Data</dc:subject><dc:subject>Ellyn Montgomery</dc:subject><dc:subject>sea_water_turbidity</dc:subject><dc:subject>latitude</dc:subject><dc:subject>longitude</dc:subject><dc:subject>time</dc:subject><dc:subject>height</dc:subject><dc:subject scheme=\"http://www.isotc211.org/2005/resources/Codelist/gmxCodelists.xml#MD_TopicCategoryCode\">climatologyMeteorologyAtmosphere</dc:subject><dct:references scheme=\"WWW:LINK\">https://gamone.whoi.edu/thredds/dodsC/silt/usgs/Projects/stellwagen/CF-1.6/SANDWICH2016/10633ecn-a.nc.html</dct:references><dct:references scheme=\"WWW:LINK\">http://www.ncdc.noaa.gov/oa/wct/wct-jnlp-beta.php?singlefile=https://gamone.whoi.edu/thredds/dodsC/silt/usgs/Projects/stellwagen/CF-1.6/SANDWICH2016/10633ecn-a.nc</dct:references><dct:references scheme=\"OPeNDAP:OPeNDAP\">https://gamone.whoi.edu/thredds/dodsC/silt/usgs/Projects/stellwagen/CF-1.6/SANDWICH2016/10633ecn-a.nc</dct:references><dct:references scheme=\"OGC:WMS\">https://gamone.whoi.edu/thredds/wms/silt/usgs/Projects/stellwagen/CF-1.6/SANDWICH2016/10633ecn-a.nc?service=WMS&amp;version=1.3.0&amp;request=GetCapabilities</dct:references><dct:references scheme=\"UNIDATA:NCSS\">https://gamone.whoi.edu/thredds/ncss/grid/silt/usgs/Projects/stellwagen/CF-1.6/SANDWICH2016/10633ecn-a.nc/dataset.html</dct:references><dct:references scheme=\"file\">https://gamone.whoi.edu/thredds/fileServer/silt/usgs/Projects/stellwagen/CF-1.6/SANDWICH2016/10633ecn-a.nc</dct:references><dc:relation/><dct:modified>2018-11-15</dct:modified><dct:abstract>USGS-CMG time-series data from the Sandwich Town Neck Beach, Massachusetts, 2016 project, mooring 1063 and package 10633ecn-a. Observations of Oceanographic, Atmospheric and Water-Quality for assesment of storm effects on overwash</dct:abstract><dc:date>2018-11-15</dc:date><ows:BoundingBox crs=\"urn:x-ogc:def:crs:EPSG:6.11:4326\" dimensions=\"2\"><ows:LowerCorner>41.77 -70.48</ows:LowerCorner><ows:UpperCorner>41.77 -70.48</ows:UpperCorner></ows:BoundingBox></csw:Record>'"
      ]
     },
     "execution_count": 10,
     "metadata": {},
     "output_type": "execute_result"
    }
   ],
   "source": [
    "csw.records[choice].xml"
   ]
  },
  {
   "cell_type": "markdown",
   "metadata": {},
   "source": [
    "Add bounding box constraint. To specify lon,lat order for bbox (which we want to do so that we can use the same bbox with either geoportal server or pycsw requests), we need to request the bounding box specifying the CRS84 coordinate reference system.   The CRS84 option is available in `pycsw 1.1.10`+. The ability to specify the `crs` in the bounding box request is available in `owslib 0.8.12`+.  For more info on the bounding box problem and how it was solved, see this [pycsw issue](https://github.com/geopython/pycsw/issues/287), this [geoportal server issue](https://github.com/Esri/geoportal-server/issues/124), and this [owslib issue](https://github.com/geopython/OWSLib/issues/201)"
   ]
  },
  {
   "cell_type": "code",
   "execution_count": 11,
   "metadata": {},
   "outputs": [],
   "source": [
    "bbox = [-70.50, 41.7, -70.0, 41.90]    # [lon_min, lat_min, lon_max, lat_max]\n",
    "bbox_filter = fes.BBox(bbox,crs='urn:ogc:def:crs:OGC:1.3:CRS84')\n",
    "filter_list = [fes.And([filter1, bbox_filter])]\n",
    "csw.getrecords2(constraints=filter_list, maxrecords=1000)"
   ]
  },
  {
   "cell_type": "code",
   "execution_count": 12,
   "metadata": {},
   "outputs": [
    {
     "name": "stdout",
     "output_type": "stream",
     "text": [
      "10\n",
      "title:USGS-CMG time-series data: SANDWICH2016 - 1059 - 10591dw-a\n",
      "identifier:gov.usgs.cmgp:10591dw-a\n",
      "modified:2018-11-15\n",
      " \n",
      "title:USGS-CMG time-series data: SANDWICH2016 - 1059 - 10591dwvs-cal\n",
      "identifier:gov.usgs.cmgp:10591dwvs-cal\n",
      "modified:2018-11-15\n",
      " \n",
      "title:USGS-CMG time-series data: SANDWICH2016 - 1059 - 10591dwvs-cal\n",
      "identifier:gov.usgs.cmgp:10591dwvs-cal_z1\n",
      "modified:2018-11-15\n",
      " \n",
      "title:USGS-CMG time-series data: SANDWICH2016 - 1060 - 10601hwlb-a\n",
      "identifier:gov.usgs.cmgp:10601hwlb-a\n",
      "modified:2018-11-15\n",
      " \n",
      "title:USGS-CMG time-series data: SANDWICH2016 - 1060 - 10602dw-a\n",
      "identifier:gov.usgs.cmgp:10602dw-a\n",
      "modified:2018-11-15\n",
      " \n",
      "title:USGS-CMG time-series data: SANDWICH2016 - 1061 - 10612dw-a\n",
      "identifier:gov.usgs.cmgp:10612dw-a\n",
      "modified:2018-11-15\n",
      " \n",
      "title:USGS-CMG time-series data: SANDWICH2016 - 1062 - 10622dw-a\n",
      "identifier:gov.usgs.cmgp:10622dw-a\n",
      "modified:2018-11-15\n",
      " \n",
      "title:USGS-CMG time-series data: SANDWICH2016 - 1063 - 10631whV-a\n",
      "identifier:gov.usgs.cmgp:10631whV-a\n",
      "modified:2018-11-15\n",
      " \n",
      "title:USGS-CMG time-series data: SANDWICH2016 - 1063 - 10632mc-a\n",
      "identifier:gov.usgs.cmgp:10632mc-a\n",
      "modified:2018-11-15\n",
      " \n",
      "title:USGS-CMG time-series data: SANDWICH2016 - 1063 - 10633ecn-a\n",
      "identifier:gov.usgs.cmgp:10633ecn-a\n",
      "modified:2018-11-15\n",
      " \n"
     ]
    }
   ],
   "source": [
    "print(len(csw.records.keys()))\n",
    "for rec in list(csw.records.keys()):\n",
    "    print('title:'+csw.records[rec].title) \n",
    "    print('identifier:'+csw.records[rec].identifier)\n",
    "    print('modified:'+csw.records[rec].modified)\n",
    "    print(' ')"
   ]
  },
  {
   "cell_type": "code",
   "execution_count": 13,
   "metadata": {},
   "outputs": [
    {
     "name": "stdout",
     "output_type": "stream",
     "text": [
      "10\n",
      "title:USGS-CMG time-series data: SANDWICH2016 - 1059 - 10591dw-a\n",
      "identifier:gov.usgs.cmgp:10591dw-a\n",
      "modified:2018-11-15\n",
      "[{'scheme': 'WWW:LINK',\n",
      "  'url': 'https://gamone.whoi.edu/thredds/dodsC/silt/usgs/Projects/stellwagen/CF-1.6/SANDWICH2016/10591dw-a.nc.html'},\n",
      " {'scheme': 'WWW:LINK',\n",
      "  'url': 'http://www.ncdc.noaa.gov/oa/wct/wct-jnlp-beta.php?singlefile=https://gamone.whoi.edu/thredds/dodsC/silt/usgs/Projects/stellwagen/CF-1.6/SANDWICH2016/10591dw-a.nc'},\n",
      " {'scheme': 'OPeNDAP:OPeNDAP',\n",
      "  'url': 'https://gamone.whoi.edu/thredds/dodsC/silt/usgs/Projects/stellwagen/CF-1.6/SANDWICH2016/10591dw-a.nc'},\n",
      " {'scheme': 'OGC:WMS',\n",
      "  'url': 'https://gamone.whoi.edu/thredds/wms/silt/usgs/Projects/stellwagen/CF-1.6/SANDWICH2016/10591dw-a.nc?service=WMS&version=1.3.0&request=GetCapabilities'},\n",
      " {'scheme': 'UNIDATA:NCSS',\n",
      "  'url': 'https://gamone.whoi.edu/thredds/ncss/grid/silt/usgs/Projects/stellwagen/CF-1.6/SANDWICH2016/10591dw-a.nc/dataset.html'},\n",
      " {'scheme': 'file',\n",
      "  'url': 'https://gamone.whoi.edu/thredds/fileServer/silt/usgs/Projects/stellwagen/CF-1.6/SANDWICH2016/10591dw-a.nc'}]\n",
      " \n",
      "title:USGS-CMG time-series data: SANDWICH2016 - 1059 - 10591dwvs-cal\n",
      "identifier:gov.usgs.cmgp:10591dwvs-cal\n",
      "modified:2018-11-15\n",
      "[{'scheme': 'WWW:LINK',\n",
      "  'url': 'https://gamone.whoi.edu/thredds/dodsC/silt/usgs/Projects/stellwagen/CF-1.6/SANDWICH2016/10591dwvs-cal.nc.html'},\n",
      " {'scheme': 'WWW:LINK',\n",
      "  'url': 'http://www.ncdc.noaa.gov/oa/wct/wct-jnlp-beta.php?singlefile=https://gamone.whoi.edu/thredds/dodsC/silt/usgs/Projects/stellwagen/CF-1.6/SANDWICH2016/10591dwvs-cal.nc'},\n",
      " {'scheme': 'OPeNDAP:OPeNDAP',\n",
      "  'url': 'https://gamone.whoi.edu/thredds/dodsC/silt/usgs/Projects/stellwagen/CF-1.6/SANDWICH2016/10591dwvs-cal.nc'},\n",
      " {'scheme': 'OGC:WMS',\n",
      "  'url': 'https://gamone.whoi.edu/thredds/wms/silt/usgs/Projects/stellwagen/CF-1.6/SANDWICH2016/10591dwvs-cal.nc?service=WMS&version=1.3.0&request=GetCapabilities'},\n",
      " {'scheme': 'UNIDATA:NCSS',\n",
      "  'url': 'https://gamone.whoi.edu/thredds/ncss/grid/silt/usgs/Projects/stellwagen/CF-1.6/SANDWICH2016/10591dwvs-cal.nc/dataset.html'},\n",
      " {'scheme': 'file',\n",
      "  'url': 'https://gamone.whoi.edu/thredds/fileServer/silt/usgs/Projects/stellwagen/CF-1.6/SANDWICH2016/10591dwvs-cal.nc'}]\n",
      " \n",
      "title:USGS-CMG time-series data: SANDWICH2016 - 1059 - 10591dwvs-cal\n",
      "identifier:gov.usgs.cmgp:10591dwvs-cal_z1\n",
      "modified:2018-11-15\n",
      "[{'scheme': 'WWW:LINK',\n",
      "  'url': 'https://gamone.whoi.edu/thredds/dodsC/silt/usgs/Projects/stellwagen/CF-1.6/SANDWICH2016/10591dwvs-cal_z1.nc.html'},\n",
      " {'scheme': 'WWW:LINK',\n",
      "  'url': 'http://www.ncdc.noaa.gov/oa/wct/wct-jnlp-beta.php?singlefile=https://gamone.whoi.edu/thredds/dodsC/silt/usgs/Projects/stellwagen/CF-1.6/SANDWICH2016/10591dwvs-cal_z1.nc'},\n",
      " {'scheme': 'OPeNDAP:OPeNDAP',\n",
      "  'url': 'https://gamone.whoi.edu/thredds/dodsC/silt/usgs/Projects/stellwagen/CF-1.6/SANDWICH2016/10591dwvs-cal_z1.nc'},\n",
      " {'scheme': 'OGC:WMS',\n",
      "  'url': 'https://gamone.whoi.edu/thredds/wms/silt/usgs/Projects/stellwagen/CF-1.6/SANDWICH2016/10591dwvs-cal_z1.nc?service=WMS&version=1.3.0&request=GetCapabilities'},\n",
      " {'scheme': 'UNIDATA:NCSS',\n",
      "  'url': 'https://gamone.whoi.edu/thredds/ncss/grid/silt/usgs/Projects/stellwagen/CF-1.6/SANDWICH2016/10591dwvs-cal_z1.nc/dataset.html'},\n",
      " {'scheme': 'file',\n",
      "  'url': 'https://gamone.whoi.edu/thredds/fileServer/silt/usgs/Projects/stellwagen/CF-1.6/SANDWICH2016/10591dwvs-cal_z1.nc'}]\n",
      " \n",
      "title:USGS-CMG time-series data: SANDWICH2016 - 1060 - 10601hwlb-a\n",
      "identifier:gov.usgs.cmgp:10601hwlb-a\n",
      "modified:2018-11-15\n",
      "[{'scheme': 'WWW:LINK',\n",
      "  'url': 'https://gamone.whoi.edu/thredds/dodsC/silt/usgs/Projects/stellwagen/CF-1.6/SANDWICH2016/10601hwlb-a.nc.html'},\n",
      " {'scheme': 'WWW:LINK',\n",
      "  'url': 'http://www.ncdc.noaa.gov/oa/wct/wct-jnlp-beta.php?singlefile=https://gamone.whoi.edu/thredds/dodsC/silt/usgs/Projects/stellwagen/CF-1.6/SANDWICH2016/10601hwlb-a.nc'},\n",
      " {'scheme': 'OPeNDAP:OPeNDAP',\n",
      "  'url': 'https://gamone.whoi.edu/thredds/dodsC/silt/usgs/Projects/stellwagen/CF-1.6/SANDWICH2016/10601hwlb-a.nc'},\n",
      " {'scheme': 'OGC:WMS',\n",
      "  'url': 'https://gamone.whoi.edu/thredds/wms/silt/usgs/Projects/stellwagen/CF-1.6/SANDWICH2016/10601hwlb-a.nc?service=WMS&version=1.3.0&request=GetCapabilities'},\n",
      " {'scheme': 'UNIDATA:NCSS',\n",
      "  'url': 'https://gamone.whoi.edu/thredds/ncss/grid/silt/usgs/Projects/stellwagen/CF-1.6/SANDWICH2016/10601hwlb-a.nc/dataset.html'},\n",
      " {'scheme': 'file',\n",
      "  'url': 'https://gamone.whoi.edu/thredds/fileServer/silt/usgs/Projects/stellwagen/CF-1.6/SANDWICH2016/10601hwlb-a.nc'}]\n",
      " \n",
      "title:USGS-CMG time-series data: SANDWICH2016 - 1060 - 10602dw-a\n",
      "identifier:gov.usgs.cmgp:10602dw-a\n",
      "modified:2018-11-15\n",
      "[{'scheme': 'WWW:LINK',\n",
      "  'url': 'https://gamone.whoi.edu/thredds/dodsC/silt/usgs/Projects/stellwagen/CF-1.6/SANDWICH2016/10602dw-a.nc.html'},\n",
      " {'scheme': 'WWW:LINK',\n",
      "  'url': 'http://www.ncdc.noaa.gov/oa/wct/wct-jnlp-beta.php?singlefile=https://gamone.whoi.edu/thredds/dodsC/silt/usgs/Projects/stellwagen/CF-1.6/SANDWICH2016/10602dw-a.nc'},\n",
      " {'scheme': 'OPeNDAP:OPeNDAP',\n",
      "  'url': 'https://gamone.whoi.edu/thredds/dodsC/silt/usgs/Projects/stellwagen/CF-1.6/SANDWICH2016/10602dw-a.nc'},\n",
      " {'scheme': 'OGC:WMS',\n",
      "  'url': 'https://gamone.whoi.edu/thredds/wms/silt/usgs/Projects/stellwagen/CF-1.6/SANDWICH2016/10602dw-a.nc?service=WMS&version=1.3.0&request=GetCapabilities'},\n",
      " {'scheme': 'UNIDATA:NCSS',\n",
      "  'url': 'https://gamone.whoi.edu/thredds/ncss/grid/silt/usgs/Projects/stellwagen/CF-1.6/SANDWICH2016/10602dw-a.nc/dataset.html'},\n",
      " {'scheme': 'file',\n",
      "  'url': 'https://gamone.whoi.edu/thredds/fileServer/silt/usgs/Projects/stellwagen/CF-1.6/SANDWICH2016/10602dw-a.nc'}]\n",
      " \n",
      "title:USGS-CMG time-series data: SANDWICH2016 - 1061 - 10612dw-a\n",
      "identifier:gov.usgs.cmgp:10612dw-a\n",
      "modified:2018-11-15\n",
      "[{'scheme': 'WWW:LINK',\n",
      "  'url': 'https://gamone.whoi.edu/thredds/dodsC/silt/usgs/Projects/stellwagen/CF-1.6/SANDWICH2016/10612dw-a.nc.html'},\n",
      " {'scheme': 'WWW:LINK',\n",
      "  'url': 'http://www.ncdc.noaa.gov/oa/wct/wct-jnlp-beta.php?singlefile=https://gamone.whoi.edu/thredds/dodsC/silt/usgs/Projects/stellwagen/CF-1.6/SANDWICH2016/10612dw-a.nc'},\n",
      " {'scheme': 'OPeNDAP:OPeNDAP',\n",
      "  'url': 'https://gamone.whoi.edu/thredds/dodsC/silt/usgs/Projects/stellwagen/CF-1.6/SANDWICH2016/10612dw-a.nc'},\n",
      " {'scheme': 'OGC:WMS',\n",
      "  'url': 'https://gamone.whoi.edu/thredds/wms/silt/usgs/Projects/stellwagen/CF-1.6/SANDWICH2016/10612dw-a.nc?service=WMS&version=1.3.0&request=GetCapabilities'},\n",
      " {'scheme': 'UNIDATA:NCSS',\n",
      "  'url': 'https://gamone.whoi.edu/thredds/ncss/grid/silt/usgs/Projects/stellwagen/CF-1.6/SANDWICH2016/10612dw-a.nc/dataset.html'},\n",
      " {'scheme': 'file',\n",
      "  'url': 'https://gamone.whoi.edu/thredds/fileServer/silt/usgs/Projects/stellwagen/CF-1.6/SANDWICH2016/10612dw-a.nc'}]\n",
      " \n",
      "title:USGS-CMG time-series data: SANDWICH2016 - 1062 - 10622dw-a\n",
      "identifier:gov.usgs.cmgp:10622dw-a\n",
      "modified:2018-11-15\n",
      "[{'scheme': 'WWW:LINK',\n",
      "  'url': 'https://gamone.whoi.edu/thredds/dodsC/silt/usgs/Projects/stellwagen/CF-1.6/SANDWICH2016/10622dw-a.nc.html'},\n",
      " {'scheme': 'WWW:LINK',\n",
      "  'url': 'http://www.ncdc.noaa.gov/oa/wct/wct-jnlp-beta.php?singlefile=https://gamone.whoi.edu/thredds/dodsC/silt/usgs/Projects/stellwagen/CF-1.6/SANDWICH2016/10622dw-a.nc'},\n",
      " {'scheme': 'OPeNDAP:OPeNDAP',\n",
      "  'url': 'https://gamone.whoi.edu/thredds/dodsC/silt/usgs/Projects/stellwagen/CF-1.6/SANDWICH2016/10622dw-a.nc'},\n",
      " {'scheme': 'OGC:WMS',\n",
      "  'url': 'https://gamone.whoi.edu/thredds/wms/silt/usgs/Projects/stellwagen/CF-1.6/SANDWICH2016/10622dw-a.nc?service=WMS&version=1.3.0&request=GetCapabilities'},\n",
      " {'scheme': 'UNIDATA:NCSS',\n",
      "  'url': 'https://gamone.whoi.edu/thredds/ncss/grid/silt/usgs/Projects/stellwagen/CF-1.6/SANDWICH2016/10622dw-a.nc/dataset.html'},\n",
      " {'scheme': 'file',\n",
      "  'url': 'https://gamone.whoi.edu/thredds/fileServer/silt/usgs/Projects/stellwagen/CF-1.6/SANDWICH2016/10622dw-a.nc'}]\n",
      " \n",
      "title:USGS-CMG time-series data: SANDWICH2016 - 1063 - 10631whV-a\n",
      "identifier:gov.usgs.cmgp:10631whV-a\n",
      "modified:2018-11-15\n",
      "[{'scheme': 'WWW:LINK',\n",
      "  'url': 'https://gamone.whoi.edu/thredds/dodsC/silt/usgs/Projects/stellwagen/CF-1.6/SANDWICH2016/10631whV-a.nc.html'},\n",
      " {'scheme': 'WWW:LINK',\n",
      "  'url': 'http://www.ncdc.noaa.gov/oa/wct/wct-jnlp-beta.php?singlefile=https://gamone.whoi.edu/thredds/dodsC/silt/usgs/Projects/stellwagen/CF-1.6/SANDWICH2016/10631whV-a.nc'},\n",
      " {'scheme': 'OPeNDAP:OPeNDAP',\n",
      "  'url': 'https://gamone.whoi.edu/thredds/dodsC/silt/usgs/Projects/stellwagen/CF-1.6/SANDWICH2016/10631whV-a.nc'},\n",
      " {'scheme': 'OGC:WMS',\n",
      "  'url': 'https://gamone.whoi.edu/thredds/wms/silt/usgs/Projects/stellwagen/CF-1.6/SANDWICH2016/10631whV-a.nc?service=WMS&version=1.3.0&request=GetCapabilities'},\n",
      " {'scheme': 'UNIDATA:NCSS',\n",
      "  'url': 'https://gamone.whoi.edu/thredds/ncss/grid/silt/usgs/Projects/stellwagen/CF-1.6/SANDWICH2016/10631whV-a.nc/dataset.html'},\n",
      " {'scheme': 'file',\n",
      "  'url': 'https://gamone.whoi.edu/thredds/fileServer/silt/usgs/Projects/stellwagen/CF-1.6/SANDWICH2016/10631whV-a.nc'}]\n",
      " \n",
      "title:USGS-CMG time-series data: SANDWICH2016 - 1063 - 10632mc-a\n",
      "identifier:gov.usgs.cmgp:10632mc-a\n",
      "modified:2018-11-15\n",
      "[{'scheme': 'WWW:LINK',\n",
      "  'url': 'https://gamone.whoi.edu/thredds/dodsC/silt/usgs/Projects/stellwagen/CF-1.6/SANDWICH2016/10632mc-a.nc.html'},\n",
      " {'scheme': 'WWW:LINK',\n",
      "  'url': 'http://www.ncdc.noaa.gov/oa/wct/wct-jnlp-beta.php?singlefile=https://gamone.whoi.edu/thredds/dodsC/silt/usgs/Projects/stellwagen/CF-1.6/SANDWICH2016/10632mc-a.nc'},\n",
      " {'scheme': 'OPeNDAP:OPeNDAP',\n",
      "  'url': 'https://gamone.whoi.edu/thredds/dodsC/silt/usgs/Projects/stellwagen/CF-1.6/SANDWICH2016/10632mc-a.nc'},\n",
      " {'scheme': 'OGC:WMS',\n",
      "  'url': 'https://gamone.whoi.edu/thredds/wms/silt/usgs/Projects/stellwagen/CF-1.6/SANDWICH2016/10632mc-a.nc?service=WMS&version=1.3.0&request=GetCapabilities'},\n",
      " {'scheme': 'UNIDATA:NCSS',\n",
      "  'url': 'https://gamone.whoi.edu/thredds/ncss/grid/silt/usgs/Projects/stellwagen/CF-1.6/SANDWICH2016/10632mc-a.nc/dataset.html'},\n",
      " {'scheme': 'file',\n",
      "  'url': 'https://gamone.whoi.edu/thredds/fileServer/silt/usgs/Projects/stellwagen/CF-1.6/SANDWICH2016/10632mc-a.nc'}]\n",
      " \n",
      "title:USGS-CMG time-series data: SANDWICH2016 - 1063 - 10633ecn-a\n",
      "identifier:gov.usgs.cmgp:10633ecn-a\n",
      "modified:2018-11-15\n",
      "[{'scheme': 'WWW:LINK',\n",
      "  'url': 'https://gamone.whoi.edu/thredds/dodsC/silt/usgs/Projects/stellwagen/CF-1.6/SANDWICH2016/10633ecn-a.nc.html'},\n",
      " {'scheme': 'WWW:LINK',\n",
      "  'url': 'http://www.ncdc.noaa.gov/oa/wct/wct-jnlp-beta.php?singlefile=https://gamone.whoi.edu/thredds/dodsC/silt/usgs/Projects/stellwagen/CF-1.6/SANDWICH2016/10633ecn-a.nc'},\n",
      " {'scheme': 'OPeNDAP:OPeNDAP',\n",
      "  'url': 'https://gamone.whoi.edu/thredds/dodsC/silt/usgs/Projects/stellwagen/CF-1.6/SANDWICH2016/10633ecn-a.nc'},\n",
      " {'scheme': 'OGC:WMS',\n",
      "  'url': 'https://gamone.whoi.edu/thredds/wms/silt/usgs/Projects/stellwagen/CF-1.6/SANDWICH2016/10633ecn-a.nc?service=WMS&version=1.3.0&request=GetCapabilities'},\n",
      " {'scheme': 'UNIDATA:NCSS',\n",
      "  'url': 'https://gamone.whoi.edu/thredds/ncss/grid/silt/usgs/Projects/stellwagen/CF-1.6/SANDWICH2016/10633ecn-a.nc/dataset.html'},\n",
      " {'scheme': 'file',\n",
      "  'url': 'https://gamone.whoi.edu/thredds/fileServer/silt/usgs/Projects/stellwagen/CF-1.6/SANDWICH2016/10633ecn-a.nc'}]\n",
      " \n"
     ]
    }
   ],
   "source": [
    "from pprint import pprint\n",
    "val = 'opendap'\n",
    "filter2 = fes.PropertyIsLike(propertyname='apiso:ServiceType',literal=('*%s*' % val),\n",
    "                        escapeChar='\\\\',wildCard='*',singleChar='?')\n",
    "filter_list = [fes.And([filter1, filter2, bbox_filter])]\n",
    "csw.getrecords2(constraints=filter_list, maxrecords=1000)\n",
    "\n",
    "print(len(csw.records.keys()))\n",
    "for rec in list(csw.records.keys()):\n",
    "    print('title:'+csw.records[rec].title) \n",
    "    print('identifier:'+csw.records[rec].identifier)\n",
    "    print('modified:'+csw.records[rec].modified)\n",
    "    pprint(csw.records[rec].references)\n",
    "    print(' ')"
   ]
  },
  {
   "cell_type": "markdown",
   "metadata": {},
   "source": [
    "separates a set of commands"
   ]
  },
  {
   "cell_type": "code",
   "execution_count": null,
   "metadata": {},
   "outputs": [],
   "source": [
    "val = 'Warner'\n",
    "#val = 'COADS'\n",
    "filter1 = fes.PropertyIsLike(propertyname='apiso:AnyText',literal=('*%s*' % val),\n",
    "                        escapeChar='\\\\',wildCard='*',singleChar='?')\n",
    "filter_list = [ filter1 ]\n",
    "csw.getrecords2(constraints=filter_list, maxrecords=1000)\n",
    "\n"
   ]
  },
  {
   "cell_type": "code",
   "execution_count": null,
   "metadata": {},
   "outputs": [],
   "source": [
    "print(len(csw.records.keys()))\n",
    "for rec in list(csw.records.keys()):\n",
    "    print('title:'+csw.records[rec].title) \n",
    "    print('identifier:'+csw.records[rec].identifier)\n",
    "    print('modified:'+csw.records[rec].modified)\n",
    "    print(' ')"
   ]
  },
  {
   "cell_type": "code",
   "execution_count": null,
   "metadata": {},
   "outputs": [],
   "source": [
    "val = 'necofs'\n",
    "filter1 = fes.PropertyIsLike(propertyname='apiso:AnyText',literal=('*%s*' % val),\n",
    "                        escapeChar='\\\\',wildCard='*',singleChar='?')\n",
    "\n",
    "val = 'opendap'\n",
    "filter2 = fes.PropertyIsLike(propertyname='apiso:ServiceType',literal=('*%s*' % val),\n",
    "                        escapeChar='\\\\',wildCard='*',singleChar='?')\n",
    "filter_list = [fes.And([filter1, filter2, bbox_filter])]\n",
    "csw.getrecords2(constraints=filter_list, maxrecords=1000)\n",
    "\n",
    "print(len(csw.records.keys()))\n",
    "for rec in list(csw.records.keys()):\n",
    "    print('title:'+csw.records[rec].title) \n",
    "    print('identifier:'+csw.records[rec].identifier)\n",
    "    print('modified:'+csw.records[rec].modified)\n",
    "    print(' ')"
   ]
  },
  {
   "cell_type": "code",
   "execution_count": null,
   "metadata": {},
   "outputs": [],
   "source": [
    "val = 'CMG_Portal'\n",
    "val = 'Chinco'\n",
    "filter1 = fes.PropertyIsLike(propertyname='apiso:AnyText',literal=('*%s*' % val),\n",
    "                        escapeChar='\\\\',wildCard='*',singleChar='?')\n",
    "filter_list = [ filter1 ]\n",
    "csw.getrecords2(constraints=filter_list, maxrecords=1000)\n",
    "print(len(csw.records.keys()))\n",
    "for rec in list(csw.records.keys()):\n",
    "    print('title:'+csw.records[rec].title) \n",
    "    print('identifier:'+csw.records[rec].identifier)\n",
    "    print('modified:'+csw.records[rec].modified)\n",
    "    print(' ')"
   ]
  },
  {
   "cell_type": "code",
   "execution_count": null,
   "metadata": {},
   "outputs": [],
   "source": []
  },
  {
   "cell_type": "code",
   "execution_count": null,
   "metadata": {},
   "outputs": [],
   "source": []
  }
 ],
 "metadata": {
  "gist_id": "0fc4f5cd1f85ec411458",
  "kernelspec": {
   "display_name": "Python [conda env:MINcnv]",
   "language": "python",
   "name": "conda-env-MINcnv-py"
  },
  "language_info": {
   "codemirror_mode": {
    "name": "ipython",
    "version": 3
   },
   "file_extension": ".py",
   "mimetype": "text/x-python",
   "name": "python",
   "nbconvert_exporter": "python",
   "pygments_lexer": "ipython3",
   "version": "3.6.6"
  }
 },
 "nbformat": 4,
 "nbformat_minor": 1
}
