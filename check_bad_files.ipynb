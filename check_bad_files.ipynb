{
 "cells": [
  {
   "cell_type": "code",
   "execution_count": 1,
   "metadata": {},
   "outputs": [],
   "source": [
    "import os\n",
    "import netCDF4 as nc4"
   ]
  },
  {
   "cell_type": "code",
   "execution_count": 5,
   "metadata": {},
   "outputs": [],
   "source": [
    "path2file='https://gamone.whoi.edu/thredds/dodsC/silt/usgs/Projects/stellwagen/Data/'"
   ]
  },
  {
   "cell_type": "code",
   "execution_count": 6,
   "metadata": {},
   "outputs": [
    {
     "name": "stdout",
     "output_type": "stream",
     "text": [
      "CAPE_COD_BAY/3073-A1H.cdf: file opened OK\n",
      "ECOHAB_I/4152-a1h.cdf: file opened OK\n",
      "ECOHAB_II/5223bsc-a.cdf: file opened OK\n",
      "GLOBEC_GB/5551psd-a.nc: file opened OK\n",
      "failed trying to read HUDSON_SVALLEY/5971adc-a1h-isOK.txt\n",
      "LYDONIA_C/2111T-A.cdf: file opened OK\n",
      "MAB_SED/1411DS2-A1H.cdf: file opened OK\n",
      "MAMALA_BAY/4711att-a.cdf: file opened OK\n",
      "failed trying to read ancillary/tau8911-a_d1.nc\n",
      "MBAY_LT/4071ox-a.nc: file opened OK\n",
      "MBAY_LT/4201p-a.nc: file opened OK\n",
      "MBAY_LT/4281tct-alp_d1.nc: file opened OK\n",
      "MBAY_LT/4621tct2-a1h_d1.nc: file opened OK\n",
      "MBAY_LT/6823sc-a.nc: file opened OK\n",
      "MBAY_LT/7663att-a.nc: file opened OK\n",
      "MBAY_LT/7761mc-a.nc: file opened OK\n",
      "MBAY_LT/7761mc-alp.nc: file opened OK\n",
      "MOBILE_BAY/3851-a.cdf: file opened OK\n",
      "MOBILE_BAY/3931p-a1h.cdf: file opened OK\n",
      "MONTEREY_BAY/4993Kpsd-a.nc: file opened OK\n",
      "MVCO_14/10356abss4s.cdf: file opened OK\n",
      "NE_SLOPE/2781P-1AA.cdf: file opened OK\n",
      "SED_TRANS/3931CST-A_d3.cdf: file opened OK\n",
      "SED_TRANS/aeb63708.cdf: file opened OK\n",
      "SED_TRANS/hcur1303.cdf: file opened OK\n",
      "failed trying to read WFAL_2017/10951hwl-a.nc\n",
      "WRIGHTSVILLE/4671r-a1h.cdf: file opened OK\n",
      "FI14/10003sgp-cal.nc: file opened OK\n",
      "FI14/10022sgp-cal.nc: file opened OK\n",
      "FI14/9863sgp-cal.nc: file opened OK\n",
      "FI14/9912sc-a.nc: file opened OK\n",
      "failed trying to read sand16/10631whV-a.nc\n",
      "failed trying to read sand16/10634dws-a.nc\n",
      "5 files failed to open with netCDF4 python library\n"
     ]
    }
   ],
   "source": [
    "knt=0\n",
    "with open('OSerrorFiles.txt') as f:\n",
    "    for line in f:\n",
    "        val = line.split()\n",
    "        #print (os.path.join(path2file,val[4]))\n",
    "        try:\n",
    "            with nc4.Dataset(os.path.join(path2file,val[4])) as fnc:\n",
    "                print(val[4] + ': file opened OK')\n",
    "        except OSError:\n",
    "            print('failed trying to read ' + val[4])\n",
    "            knt= knt+1\n",
    "    print('{} files failed to open with netCDF4 python library'.format(knt))\n",
    "    "
   ]
  },
  {
   "cell_type": "code",
   "execution_count": null,
   "metadata": {},
   "outputs": [],
   "source": []
  }
 ],
 "metadata": {
  "kernelspec": {
   "display_name": "Python [conda env:IOOS]",
   "language": "python",
   "name": "conda-env-IOOS-py"
  },
  "language_info": {
   "codemirror_mode": {
    "name": "ipython",
    "version": 3
   },
   "file_extension": ".py",
   "mimetype": "text/x-python",
   "name": "python",
   "nbconvert_exporter": "python",
   "pygments_lexer": "ipython3",
   "version": "3.6.4"
  }
 },
 "nbformat": 4,
 "nbformat_minor": 2
}
