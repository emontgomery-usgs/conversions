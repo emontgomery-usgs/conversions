{
 "cells": [
  {
   "cell_type": "code",
   "execution_count": null,
   "metadata": {},
   "outputs": [],
   "source": [
    "# activate crawler env 1st!\n",
    "import os\n",
    "import netCDF4 as nc4\n",
    "from thredds_crawler.crawl import Crawl"
   ]
  },
  {
   "cell_type": "code",
   "execution_count": null,
   "metadata": {},
   "outputs": [],
   "source": [
    "catalog = 'https://gamone.whoi.edu/thredds/silt/usgs/Projects/stellwagen/Data/catalog.xml'\n",
    "\n",
    "# these are the 3 keys in the global atts that we're checking\n",
    "required_attributes = ('MOORING', 'INST_TYPE', 'serial_number')\n",
    "\n",
    "dirlist = ('ARGO_MERCHANT', 'BARNEGAT', 'BARNEGAT_2014', 'BUZZ_BAY', 'BW_2011')\n",
    "#dirlist=('CALSCTWET','CAMP','CAPE_COD_BAY','CC_MISC','CHANDELEUR_13','CHINCOTEAGUE')"
   ]
  },
  {
   "cell_type": "code",
   "execution_count": null,
   "metadata": {},
   "outputs": [],
   "source": [
    "c = Crawl(catalog, select=[\n",
    "    '.*{}.*'.format(x) for x in dirlist])\n",
    "urls = [s.get(\"url\") for d in c.datasets for s in d.services if s.get(\"service\").lower() == \"opendap\"]\n",
    "\n",
    "print(\"Found {} datasets\".format(len(urls)))"
   ]
  },
  {
   "cell_type": "code",
   "execution_count": null,
   "metadata": {},
   "outputs": [],
   "source": [
    "with open('meta_fail_ab.txt', 'w') as f:\n",
    "    \n",
    "    for fn in urls:\n",
    "        # Just getting a prettier representation of the dataset\n",
    "        spec_file = '/'.join(fn.rsplit('/', maxsplit=2)[1:])\n",
    "        all_atts = {}\n",
    "        try:\n",
    "            with nc4.Dataset(fn) as fnc:\n",
    "                for k in required_attributes:\n",
    "                    # .ncattrs returns a list of global attributes\n",
    "                    if k not in fnc.ncattrs():\n",
    "                        msg = k + ' not found in ' + spec_file\n",
    "                        print(msg)\n",
    "                        f.write(msg)\n",
    "\n",
    "        except OSError:\n",
    "            print('failed trying to read ' + spec_file)"
   ]
  },
  {
   "cell_type": "code",
   "execution_count": null,
   "metadata": {},
   "outputs": [],
   "source": []
  }
 ],
 "metadata": {
  "kernelspec": {
   "display_name": "Python [default]",
   "language": "python",
   "name": "python3"
  },
  "language_info": {
   "codemirror_mode": {
    "name": "ipython",
    "version": 3
   },
   "file_extension": ".py",
   "mimetype": "text/x-python",
   "name": "python",
   "nbconvert_exporter": "python",
   "pygments_lexer": "ipython3",
   "version": "3.6.6"
  }
 },
 "nbformat": 4,
 "nbformat_minor": 2
}
