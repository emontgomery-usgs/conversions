{
 "cells": [
  {
   "cell_type": "code",
   "execution_count": 1,
   "metadata": {},
   "outputs": [],
   "source": [
    "import netCDF4 as nc\n",
    "from netCDF4 import Dataset\n",
    "import glob\n",
    "import thredds_crawler\n",
    "from thredds_crawler.crawl import Crawl"
   ]
  },
  {
   "cell_type": "code",
   "execution_count": null,
   "metadata": {},
   "outputs": [],
   "source": [
    "# getting metadata will work with explicit reference to a file on TDS\n",
    "fname='http://stellwagen.er.usgs.gov/thredds/dodsC/TSdata/MVCO_15/105710mc-a.nc'\n",
    "fnc=nc.Dataset(fname,mode='r+',format='NETCDF3_CLASSIC') # don't use 'w' will delete existing file!\n",
    "m_att=fnc.getncattr('MOORING')\n",
    "print(fname)\n",
    "print(\" \".join([\": MOORING att is: \", m_att]))\n",
    "fnc.close()"
   ]
  },
  {
   "cell_type": "code",
   "execution_count": null,
   "metadata": {},
   "outputs": [],
   "source": [
    "# play with ncattrs to get all global atts instead of just the ones we want using 3 calls\n",
    "fname='http://stellwagen.er.usgs.gov/thredds/dodsC/TSdata/MVCO_15/105710mc-a.nc'\n",
    "fnc=nc.Dataset(fname,mode='r+',format='NETCDF3_CLASSIC') # don't use 'w' will delete existing file!\n",
    "#all_atts=fnc.ncattrs()  # this just makes a list of all attribute names, not a dict of their values\n",
    "all_atts=fnc.__dict__\n",
    "#type(all_atts)\n",
    "print('mooring ', all_atts['MOORING'],': there is a ', all_atts['INST_TYPE'],'; SN ',all_atts['serial_number'])\n",
    "fnc.close()"
   ]
  },
  {
   "cell_type": "code",
   "execution_count": null,
   "metadata": {
    "scrolled": true
   },
   "outputs": [],
   "source": [
    "# looping works- if it's alocal path \n",
    "fpath=\"C:/home/data/validation/GrandBay/candidate_final_files/\"\n",
    "# but not if I point to a TDS location, even though above, fname with the URL worked OK\n",
    "#fpath=\"http://stellwagen.er.usgs.gov/thredds/dodsC/TSdata/MVCO_15/\"\n",
    "\n",
    "for filename in glob.glob(fpath + '*.nc'):\n",
    "        #print(filename)\n",
    "        fnc=nc.Dataset(filename,mode='r+',format='NETCDF3_CLASSIC') # don't use 'w' will delete existing file!\n",
    "        m_att=fnc.getncattr('MOORING')\n",
    "        inst=fnc.getncattr('INST_TYPE')\n",
    "        sn=fnc.getncattr('serial_number')\n",
    "        print(\" \".join([\"MOORING \", m_att, \"has INST is \", inst, \" SN is \",sn]))\n",
    "        fnc.close()"
   ]
  },
  {
   "cell_type": "code",
   "execution_count": 5,
   "metadata": {
    "scrolled": true
   },
   "outputs": [],
   "source": [
    "# you need to have imported Kyle's thredds crawler for this\n",
    "fpath=\"https://stellwagen.er.usgs.gov/thredds/catalog/TSdata/GRANDBAY/catalog.xml\"\n",
    "c = Crawl(fpath, select=[\".*nc\"])\n",
    "#print (c.datasets)"
   ]
  },
  {
   "cell_type": "code",
   "execution_count": 6,
   "metadata": {},
   "outputs": [
    {
     "name": "stdout",
     "output_type": "stream",
     "text": [
      "https://stellwagen.er.usgs.gov/thredds/dodsC/TSdata/GRANDBAY/10761Aaqd-a.nc\n",
      "mooring  1076 : there is a  Nortek Aquadopp Profiler ; SN  AQD11819\n",
      "https://stellwagen.er.usgs.gov/thredds/dodsC/TSdata/GRANDBAY/10761Aaqdwvs_diwasp-cal.nc\n",
      "mooring  1076 : there is a  Nortek Aquadopp Profiler ; SN  AQD11819\n",
      "https://stellwagen.er.usgs.gov/thredds/dodsC/TSdata/GRANDBAY/10761Aaqdwvsb-cal.nc\n",
      "mooring  1076 : there is a  Nortek Aquadopp Profiler ; SN  AQD11819\n",
      "https://stellwagen.er.usgs.gov/thredds/dodsC/TSdata/GRANDBAY/10761Baqd-a.nc\n",
      "mooring  1076 : there is a  Nortek Aquadopp Profiler ; SN  AQD11819\n",
      "https://stellwagen.er.usgs.gov/thredds/dodsC/TSdata/GRANDBAY/10761Baqdwvs_diwasp-cal.nc\n",
      "mooring  1076 : there is a  Nortek Aquadopp Profiler ; SN  AQD11819\n",
      "https://stellwagen.er.usgs.gov/thredds/dodsC/TSdata/GRANDBAY/10761Baqdwvsb-cal.nc\n",
      "mooring  1076 : there is a  Nortek Aquadopp Profiler ; SN  AQD11819\n",
      "https://stellwagen.er.usgs.gov/thredds/dodsC/TSdata/GRANDBAY/10762Aexo-a.nc\n",
      "mooring  1076 : there is a  YSI EXO2 Multiparameter Sonde ; SN  14D100014\n",
      "https://stellwagen.er.usgs.gov/thredds/dodsC/TSdata/GRANDBAY/10762Bexo-a.nc\n",
      "mooring  1076 : there is a  YSI EXO2 Multiparameter Sonde ; SN  14D100014\n",
      "https://stellwagen.er.usgs.gov/thredds/dodsC/TSdata/GRANDBAY/10763Bdwb-cal.nc\n",
      "mooring  1076 : there is a  RBR Virtuoso d|wave ; SN  55110\n",
      "https://stellwagen.er.usgs.gov/thredds/dodsC/TSdata/GRANDBAY/10763Bdws-a.nc\n",
      "mooring  1076 : there is a  RBR Virtuoso d|wave ; SN  55110\n",
      "https://stellwagen.er.usgs.gov/thredds/dodsC/TSdata/GRANDBAY/10771Baqd-a.nc\n",
      "mooring  1077 : there is a  Nortek Aquadopp Profiler ; SN  AQD13176\n",
      "https://stellwagen.er.usgs.gov/thredds/dodsC/TSdata/GRANDBAY/10772Bexo-a.nc\n",
      "mooring  1077 : there is a  YSI EXO2 Multiparameter Sonde ; SN  14D100015\n",
      "https://stellwagen.er.usgs.gov/thredds/dodsC/TSdata/GRANDBAY/10773Bdwb-cal.nc\n",
      "mooring  1077 : there is a  RBR Virtuoso d|wave ; SN  55108\n",
      "https://stellwagen.er.usgs.gov/thredds/dodsC/TSdata/GRANDBAY/10773Bdws-a.nc\n",
      "mooring  1077 : there is a  RBR Virtuoso d|wave ; SN  55108\n",
      "https://stellwagen.er.usgs.gov/thredds/dodsC/TSdata/GRANDBAY/10781Aaqd-a.nc\n",
      "mooring  1078 : there is a  Nortek Aquadopp Profiler ; SN  AQD11507\n",
      "https://stellwagen.er.usgs.gov/thredds/dodsC/TSdata/GRANDBAY/10781Aaqdwvs_diwasp-cal.nc\n",
      "mooring  1078 : there is a  Nortek Aquadopp Profiler ; SN  AQD11507\n",
      "https://stellwagen.er.usgs.gov/thredds/dodsC/TSdata/GRANDBAY/10781Aaqdwvsb-cal.nc\n",
      "mooring  1078 : there is a  Nortek Aquadopp Profiler ; SN  AQD11507\n",
      "https://stellwagen.er.usgs.gov/thredds/dodsC/TSdata/GRANDBAY/10781Baqd-a.nc\n",
      "mooring  1078 : there is a  Nortek Aquadopp Profiler ; SN  AQD11507\n",
      "https://stellwagen.er.usgs.gov/thredds/dodsC/TSdata/GRANDBAY/10781Baqdwvs_diwasp-cal.nc\n",
      "mooring  1078 : there is a  Nortek Aquadopp Profiler ; SN  AQD11507\n",
      "https://stellwagen.er.usgs.gov/thredds/dodsC/TSdata/GRANDBAY/10781Baqdwvsb-cal.nc\n",
      "mooring  1078 : there is a  Nortek Aquadopp Profiler ; SN  AQD11507\n",
      "https://stellwagen.er.usgs.gov/thredds/dodsC/TSdata/GRANDBAY/10782Aexo-a.nc\n",
      "mooring  1078 : there is a  YSI EXO2 Multiparameter Sonde ; SN  14E100204\n",
      "https://stellwagen.er.usgs.gov/thredds/dodsC/TSdata/GRANDBAY/10782Bexo-a.nc\n",
      "mooring  1078 : there is a  YSI EXO2 Multiparameter Sonde ; SN  14E100204\n",
      "https://stellwagen.er.usgs.gov/thredds/dodsC/TSdata/GRANDBAY/10783Adwb-cal.nc\n",
      "mooring  1078 : there is a  RBR Virtuoso d|wave ; SN  55109\n",
      "https://stellwagen.er.usgs.gov/thredds/dodsC/TSdata/GRANDBAY/10783Adws-a.nc\n",
      "mooring  1078 : there is a  RBR Virtuoso d|wave ; SN  55109\n",
      "https://stellwagen.er.usgs.gov/thredds/dodsC/TSdata/GRANDBAY/10783Bdwb-cal.nc\n",
      "mooring  1078 : there is a  RBR Virtuoso d|wave ; SN  55109\n",
      "https://stellwagen.er.usgs.gov/thredds/dodsC/TSdata/GRANDBAY/10783Bdws-a.nc\n",
      "mooring  1078 : there is a  RBR Virtuoso d|wave ; SN  55109\n",
      "https://stellwagen.er.usgs.gov/thredds/dodsC/TSdata/GRANDBAY/10791Aaqd-a.nc\n",
      "mooring  1079 : there is a  Nortek Aquadopp Profiler ; SN  AQD 5379\n",
      "https://stellwagen.er.usgs.gov/thredds/dodsC/TSdata/GRANDBAY/10791Baqd-a.nc\n",
      "mooring  1079 : there is a  Nortek Aquadopp Profiler ; SN  AQD 5379\n",
      "https://stellwagen.er.usgs.gov/thredds/dodsC/TSdata/GRANDBAY/10791Baqdwvs_diwasp-cal.nc\n",
      "mooring  1079 : there is a  Nortek Aquadopp Profiler ; SN  AQD 5379\n",
      "https://stellwagen.er.usgs.gov/thredds/dodsC/TSdata/GRANDBAY/10791Baqdwvsb-cal.nc\n",
      "mooring  1079 : there is a  Nortek Aquadopp Profiler ; SN  AQD 5379\n",
      "https://stellwagen.er.usgs.gov/thredds/dodsC/TSdata/GRANDBAY/10792Aexo-a.nc\n",
      "mooring  1079 : there is a  YSI EXO2 Multiparameter Sonde ; SN  13E103375\n",
      "https://stellwagen.er.usgs.gov/thredds/dodsC/TSdata/GRANDBAY/10792Bexo-a.nc\n",
      "mooring  1079 : there is a  YSI EXO2 Multiparameter Sonde ; SN  13E103375\n",
      "https://stellwagen.er.usgs.gov/thredds/dodsC/TSdata/GRANDBAY/10793Adwb-cal.nc\n",
      "mooring  1079 : there is a  RBR Virtuoso d|wave ; SN  55110\n",
      "https://stellwagen.er.usgs.gov/thredds/dodsC/TSdata/GRANDBAY/10793Adws-a.nc\n",
      "mooring  1079 : there is a  RBR Virtuoso d|wave ; SN  55110\n",
      "https://stellwagen.er.usgs.gov/thredds/dodsC/TSdata/GRANDBAY/10801Bdwb-cal.nc\n",
      "mooring  1080 : there is a  RBR Virtuoso d|wave ; SN  55107\n",
      "https://stellwagen.er.usgs.gov/thredds/dodsC/TSdata/GRANDBAY/10801Bdws-a.nc\n",
      "mooring  1080 : there is a  RBR Virtuoso d|wave ; SN  55107\n"
     ]
    }
   ],
   "source": [
    "#this worked great on the GRANDBAY catalog, but not on MVCO 15\n",
    "urls = [s.get(\"url\") for d in c.datasets for s in d.services if s.get(\"service\").lower() == \"opendap\"]\n",
    "for fn in urls:\n",
    "    print(fn)\n",
    "    fnc=nc.Dataset(fn,mode='r+',format='NETCDF3_CLASSIC') # don't use 'w' will delete existing file!\n",
    "    all_atts=fnc.__dict__  # get all the global atts and their values as a dict\n",
    "    print('mooring ', all_atts['MOORING'],': there is a ', all_atts['INST_TYPE'],'; SN ',all_atts['serial_number'])\n",
    "    fnc.close()"
   ]
  },
  {
   "cell_type": "code",
   "execution_count": 2,
   "metadata": {},
   "outputs": [
    {
     "name": "stdout",
     "output_type": "stream",
     "text": [
      "https://stellwagen.er.usgs.gov/thredds/dodsC/TSdata/SANDWICH2016/10591dw-a.nc\n"
     ]
    },
    {
     "ename": "OSError",
     "evalue": "[Errno -68] NetCDF: I/O failure: b'https://stellwagen.er.usgs.gov/thredds/dodsC/TSdata/SANDWICH2016/10591dw-a.nc'",
     "output_type": "error",
     "traceback": [
      "\u001b[1;31m---------------------------------------------------------------------------\u001b[0m",
      "\u001b[1;31mOSError\u001b[0m                                   Traceback (most recent call last)",
      "\u001b[1;32m<ipython-input-2-66ad82f2f96f>\u001b[0m in \u001b[0;36m<module>\u001b[1;34m()\u001b[0m\n\u001b[0;32m      5\u001b[0m \u001b[1;32mfor\u001b[0m \u001b[0mfn\u001b[0m \u001b[1;32min\u001b[0m \u001b[0murls\u001b[0m\u001b[1;33m:\u001b[0m\u001b[1;33m\u001b[0m\u001b[0m\n\u001b[0;32m      6\u001b[0m     \u001b[0mprint\u001b[0m\u001b[1;33m(\u001b[0m\u001b[0mfn\u001b[0m\u001b[1;33m)\u001b[0m\u001b[1;33m\u001b[0m\u001b[0m\n\u001b[1;32m----> 7\u001b[1;33m     \u001b[0mfnc\u001b[0m\u001b[1;33m=\u001b[0m\u001b[0mnc\u001b[0m\u001b[1;33m.\u001b[0m\u001b[0mDataset\u001b[0m\u001b[1;33m(\u001b[0m\u001b[0mfn\u001b[0m\u001b[1;33m,\u001b[0m\u001b[0mmode\u001b[0m\u001b[1;33m=\u001b[0m\u001b[1;34m'r+'\u001b[0m\u001b[1;33m,\u001b[0m\u001b[0mformat\u001b[0m\u001b[1;33m=\u001b[0m\u001b[1;34m'NETCDF3_CLASSIC'\u001b[0m\u001b[1;33m)\u001b[0m \u001b[1;31m# don't use 'w' will delete existing file!\u001b[0m\u001b[1;33m\u001b[0m\u001b[0m\n\u001b[0m\u001b[0;32m      8\u001b[0m     \u001b[0mall_atts\u001b[0m\u001b[1;33m=\u001b[0m\u001b[0mfnc\u001b[0m\u001b[1;33m.\u001b[0m\u001b[0m__dict__\u001b[0m  \u001b[1;31m# get all the global atts and their values as a dict\u001b[0m\u001b[1;33m\u001b[0m\u001b[0m\n\u001b[0;32m      9\u001b[0m     \u001b[0mprint\u001b[0m\u001b[1;33m(\u001b[0m\u001b[1;34m'mooring '\u001b[0m\u001b[1;33m,\u001b[0m \u001b[0mall_atts\u001b[0m\u001b[1;33m[\u001b[0m\u001b[1;34m'MOORING'\u001b[0m\u001b[1;33m]\u001b[0m\u001b[1;33m,\u001b[0m\u001b[1;34m': there is a '\u001b[0m\u001b[1;33m,\u001b[0m \u001b[0mall_atts\u001b[0m\u001b[1;33m[\u001b[0m\u001b[1;34m'INST_TYPE'\u001b[0m\u001b[1;33m]\u001b[0m\u001b[1;33m,\u001b[0m\u001b[1;34m'; SN '\u001b[0m\u001b[1;33m,\u001b[0m\u001b[0mall_atts\u001b[0m\u001b[1;33m[\u001b[0m\u001b[1;34m'serial_number'\u001b[0m\u001b[1;33m]\u001b[0m\u001b[1;33m)\u001b[0m\u001b[1;33m\u001b[0m\u001b[0m\n",
      "\u001b[1;32mnetCDF4\\_netCDF4.pyx\u001b[0m in \u001b[0;36mnetCDF4._netCDF4.Dataset.__init__\u001b[1;34m()\u001b[0m\n",
      "\u001b[1;32mnetCDF4\\_netCDF4.pyx\u001b[0m in \u001b[0;36mnetCDF4._netCDF4._ensure_nc_success\u001b[1;34m()\u001b[0m\n",
      "\u001b[1;31mOSError\u001b[0m: [Errno -68] NetCDF: I/O failure: b'https://stellwagen.er.usgs.gov/thredds/dodsC/TSdata/SANDWICH2016/10591dw-a.nc'"
     ]
    }
   ],
   "source": [
    "#this worked great on the GRANDBAY catalog, but not on MVCO 15\n",
    "fpath=\"https://stellwagen.er.usgs.gov/thredds/catalog/TSdata/SANDWICH2016/catalog.xml\"\n",
    "c = Crawl(fpath, select=[\".*nc\"])\n",
    "urls = [s.get(\"url\") for d in c.datasets for s in d.services if s.get(\"service\").lower() == \"opendap\"]\n",
    "for fn in urls:\n",
    "    print(fn)\n",
    "    fnc=nc.Dataset(fn,mode='r+',format='NETCDF3_CLASSIC') # don't use 'w' will delete existing file!\n",
    "    all_atts=fnc.__dict__  # get all the global atts and their values as a dict\n",
    "    print('mooring ', all_atts['MOORING'],': there is a ', all_atts['INST_TYPE'],'; SN ',all_atts['serial_number'])\n",
    "    fnc.close()"
   ]
  },
  {
   "cell_type": "code",
   "execution_count": 8,
   "metadata": {},
   "outputs": [
    {
     "ename": "OSError",
     "evalue": "[Errno -36] NetCDF: Invalid argument: b'https://stellwagen.er.usgs.gov/thredds/dodsC/TSdata/MVCO_15/10571whV-a.nc'",
     "output_type": "error",
     "traceback": [
      "\u001b[1;31m---------------------------------------------------------------------------\u001b[0m",
      "\u001b[1;31mOSError\u001b[0m                                   Traceback (most recent call last)",
      "\u001b[1;32m<ipython-input-8-9078feda3b5d>\u001b[0m in \u001b[0;36m<module>\u001b[1;34m()\u001b[0m\n\u001b[0;32m      1\u001b[0m \u001b[1;31m#This is the problem file in MVCO15- why is it being automagically turned into a byte?\u001b[0m\u001b[1;33m\u001b[0m\u001b[1;33m\u001b[0m\u001b[0m\n\u001b[0;32m      2\u001b[0m \u001b[0mfn\u001b[0m\u001b[1;33m=\u001b[0m\u001b[1;34m'https://stellwagen.er.usgs.gov/thredds/dodsC/TSdata/MVCO_15/10571whV-a.nc'\u001b[0m\u001b[1;33m\u001b[0m\u001b[0m\n\u001b[1;32m----> 3\u001b[1;33m \u001b[0mfnc\u001b[0m\u001b[1;33m=\u001b[0m\u001b[0mnc\u001b[0m\u001b[1;33m.\u001b[0m\u001b[0mDataset\u001b[0m\u001b[1;33m(\u001b[0m\u001b[0mstr\u001b[0m\u001b[1;33m(\u001b[0m\u001b[0mfn\u001b[0m\u001b[1;33m)\u001b[0m\u001b[1;33m,\u001b[0m\u001b[0mmode\u001b[0m\u001b[1;33m=\u001b[0m\u001b[1;34m'r+'\u001b[0m\u001b[1;33m,\u001b[0m\u001b[0mformat\u001b[0m\u001b[1;33m=\u001b[0m\u001b[1;34m'NETCDF3_CLASSIC'\u001b[0m\u001b[1;33m)\u001b[0m \u001b[1;31m# don't use 'w' will delete existing file!\u001b[0m\u001b[1;33m\u001b[0m\u001b[0m\n\u001b[0m\u001b[0;32m      4\u001b[0m \u001b[0mall_atts\u001b[0m\u001b[1;33m=\u001b[0m\u001b[0mfnc\u001b[0m\u001b[1;33m.\u001b[0m\u001b[0m__dict__\u001b[0m  \u001b[1;31m# get all the global atts and their values as a dict\u001b[0m\u001b[1;33m\u001b[0m\u001b[0m\n\u001b[0;32m      5\u001b[0m \u001b[0mprint\u001b[0m\u001b[1;33m(\u001b[0m\u001b[1;34m'mooring '\u001b[0m\u001b[1;33m,\u001b[0m \u001b[0mall_atts\u001b[0m\u001b[1;33m[\u001b[0m\u001b[1;34m'MOORING'\u001b[0m\u001b[1;33m]\u001b[0m\u001b[1;33m,\u001b[0m\u001b[1;34m': there is a '\u001b[0m\u001b[1;33m,\u001b[0m \u001b[0mall_atts\u001b[0m\u001b[1;33m[\u001b[0m\u001b[1;34m'INST_TYPE'\u001b[0m\u001b[1;33m]\u001b[0m\u001b[1;33m,\u001b[0m\u001b[1;34m'; SN '\u001b[0m\u001b[1;33m,\u001b[0m\u001b[0mall_atts\u001b[0m\u001b[1;33m[\u001b[0m\u001b[1;34m'serial_number'\u001b[0m\u001b[1;33m]\u001b[0m\u001b[1;33m)\u001b[0m\u001b[1;33m\u001b[0m\u001b[0m\n",
      "\u001b[1;32mnetCDF4\\_netCDF4.pyx\u001b[0m in \u001b[0;36mnetCDF4._netCDF4.Dataset.__init__\u001b[1;34m()\u001b[0m\n",
      "\u001b[1;32mnetCDF4\\_netCDF4.pyx\u001b[0m in \u001b[0;36mnetCDF4._netCDF4._ensure_nc_success\u001b[1;34m()\u001b[0m\n",
      "\u001b[1;31mOSError\u001b[0m: [Errno -36] NetCDF: Invalid argument: b'https://stellwagen.er.usgs.gov/thredds/dodsC/TSdata/MVCO_15/10571whV-a.nc'"
     ]
    }
   ],
   "source": [
    "#This is the problem file in MVCO15- why is it being automagically turned into a byte?\n",
    "fn='https://stellwagen.er.usgs.gov/thredds/dodsC/TSdata/MVCO_15/10571whV-a.nc'\n",
    "fnc=nc.Dataset(str(fn),mode='r+',format='NETCDF3_CLASSIC') # don't use 'w' will delete existing file!\n",
    "all_atts=fnc.__dict__  # get all the global atts and their values as a dict\n",
    "print('mooring ', all_atts['MOORING'],': there is a ', all_atts['INST_TYPE'],'; SN ',all_atts['serial_number'])\n",
    "fnc.close()"
   ]
  },
  {
   "cell_type": "code",
   "execution_count": 3,
   "metadata": {},
   "outputs": [
    {
     "name": "stderr",
     "output_type": "stream",
     "text": [
      "curl error details: \n",
      "ncdump: https://stellwagen.er.usgs.gov/thredds/dodsC/TSdata/MVCO_15/10571whV-a.nc: NetCDF: I/O failure\n"
     ]
    }
   ],
   "source": [
    "!ncdump -h https://stellwagen.er.usgs.gov/thredds/dodsC/TSdata/MVCO_15/10571whV-a.nc\n"
   ]
  },
  {
   "cell_type": "code",
   "execution_count": 11,
   "metadata": {},
   "outputs": [
    {
     "name": "stderr",
     "output_type": "stream",
     "text": [
      "ncdump: https://stellwagen.er.usgs.gov/thredds/dodsC/TSdata/MVCO_15/10571whV-a.nc: NetCDF: Invalid argument\n"
     ]
    }
   ],
   "source": [
    "!ncdump -h \"https://stellwagen.er.usgs.gov/thredds/dodsC/TSdata/MVCO_15/10571whV-a.nc\"\n"
   ]
  },
  {
   "cell_type": "code",
   "execution_count": 10,
   "metadata": {},
   "outputs": [
    {
     "name": "stdout",
     "output_type": "stream",
     "text": [
      "netcdf \\10612dw-a {\n",
      "dimensions:\n",
      "\ttime = UNLIMITED ; // (648001 currently)\n",
      "\tdepth = 1 ;\n",
      "\tlat = 1 ;\n",
      "\tlon = 1 ;\n",
      "variables:\n",
      "\tint time(time) ;\n",
      "\t\ttime:FORTRAN_format = \"f10.2\" ;\n",
      "\t\ttime:long_name = \"Time\" ;\n",
      "\t\ttime:units = \"True Julian Day\" ;\n",
      "\t\ttime:type = \"EVEN\" ;\n",
      "\t\ttime:epic_code = 624. ;\n",
      "\tint time2(time) ;\n",
      "\t\ttime2:FORTRAN_format = \"f10.2\" ;\n",
      "\t\ttime2:long_name = \"Time2\" ;\n",
      "\t\ttime2:units = \"msec since 00:00 GMT\" ;\n",
      "\t\ttime2:type = \"EVEN\" ;\n",
      "\t\ttime2:epic_code = 624. ;\n",
      "\tdouble lat(lat) ;\n",
      "\t\tlat:FORTRAN_format = \"f10.2\" ;\n",
      "\t\tlat:units = \"degrees_north\" ;\n",
      "\t\tlat:long_name = \"Latitude\" ;\n",
      "\t\tlat:epic_code = 500. ;\n",
      "\t\tlat:datum = \"NAD83\" ;\n",
      "\tdouble lon(lon) ;\n",
      "\t\tlon:FORTRAN_format = \"f10.2\" ;\n",
      "\t\tlon:units = \"degrees_east\" ;\n",
      "\t\tlon:long_name = \"Longitude\" ;\n",
      "\t\tlon:epic_code = 502. ;\n",
      "\t\tlon:datum = \"NAD83\" ;\n",
      "\tdouble depth(depth) ;\n",
      "\t\tdepth:positive = \"down\" ;\n",
      "\t\tdepth:long_name = \"Depth\" ;\n",
      "\t\tdepth:axis = \"z\" ;\n",
      "\t\tdepth:units = \"m\" ;\n",
      "\t\tdepth:epic_code = 3. ;\n",
      "\tfloat P_1(time, lon, lat, depth) ;\n",
      "\t\tP_1:long_name = \"Pressure\" ;\n",
      "\t\tP_1:units = \"Decibars\" ;\n",
      "\t\tP_1:epic_code = \"1\" ;\n",
      "\t\tP_1:sensor_depth = 0.012 ;\n",
      "\t\tP_1:height_depth_units = \"m\" ;\n",
      "\t\tP_1:initial_sensor_height = -0.012 ;\n",
      "\t\tP_1:minimum = 9.888301f ;\n",
      "\t\tP_1:maximum = 10.29064f ;\n",
      "\t\tP_1:serial_number = \"077827\" ;\n",
      "\t\tP_1:_FillValue = 1.e+35f ;\n",
      "\tfloat T_28(time, lon, lat, depth) ;\n",
      "\t\tT_28:long_name = \"Temperature\" ;\n",
      "\t\tT_28:units = \"Centigrade\" ;\n",
      "\t\tT_28:epic_code = \"28\" ;\n",
      "\t\tT_28:sensor_depth = 0.012 ;\n",
      "\t\tT_28:height_depth_units = \"m\" ;\n",
      "\t\tT_28:initial_sensor_height = -0.012 ;\n",
      "\t\tT_28:minimum = -8.161523f ;\n",
      "\t\tT_28:maximum = 7.423562f ;\n",
      "\t\tT_28:serial_number = \"077827\" ;\n",
      "\t\tT_28:_FillValue = 1.e+35f ;\n",
      "\tfloat P_1ac(time, lon, lat, depth) ;\n",
      "\t\tP_1ac:name = \"pressure (corrected for atmospheric)\" ;\n",
      "\t\tP_1ac:long_name = \"pressure (corrected for atmospheric)\" ;\n",
      "\t\tP_1ac:standard_name = \"sea_water_pressure_due_to_sea_water\" ;\n",
      "\t\tP_1ac:units = \"dbar\" ;\n",
      "\t\tP_1ac:initial_instrument_height = -0.012 ;\n",
      "\t\tP_1ac:minimum = -0.08254008f ;\n",
      "\t\tP_1ac:maximum = 0.292253f ;\n",
      "\t\tP_1ac:_FillValue = 1.e+35f ;\n",
      "\t\tP_1ac:note = \"Corrected for variations in atmospheric pressure using barometric pressure from 10601hlm\" ;\n",
      "\t\tP_1ac:sensor_depth = 0.012 ;\n",
      "\tfloat D_3(time, lon, lat, depth) ;\n",
      "\t\tD_3:name = \"Water depth computed from atmospheric correctd pressure\" ;\n",
      "\t\tD_3:long_name = \"water depth\" ;\n",
      "\t\tD_3:units = \"m\" ;\n",
      "\t\tD_3:initial_instrument_height = -0.012 ;\n",
      "\t\tD_3:minimum = -0.08190022f ;\n",
      "\t\tD_3:maximum = 0.2899872f ;\n",
      "\t\tD_3:_FillValue = 1.e+35f ;\n",
      "\t\tD_3:note = \"Corrected for variations in atmospheric pressure using local barometric pressure record\" ;\n",
      "\t\tD_3:sensor_depth = 0.012 ;\n",
      "\tfloat WL_NAVD88(time, lon, lat, depth) ;\n",
      "\t\tWL_NAVD88:units = \"meters (NAVD88)\" ;\n",
      "\t\tWL_NAVD88:type = \"EVEN\" ;\n",
      "\t\tWL_NAVD88:long_name = \"Sea surface elevation referenced to NAVD88 geodetic datum\" ;\n",
      "\t\tWL_NAVD88:FillValue = 1.e+35f ;\n",
      "\t\tWL_NAVD88:minimum = 2.0168f ;\n",
      "\t\tWL_NAVD88:maximum = 2.388687f ;\n",
      "\t\tWL_NAVD88:serial_number = \"077827\" ;\n",
      "\t\tWL_NAVD88:initial_instrument_height = -0.012 ;\n",
      "\t\tWL_NAVD88:note = \"WL_NAVD88 = Depth + 2.0987(sensor elevation, NAVD88).  Referenced to NGS GEOID96.\" ;\n",
      "\t\tWL_NAVD88:sensor_depth = 0.012 ;\n",
      "\n",
      "// global attributes:\n",
      "\t\t:SciPi = \"C.Sherwood\" ;\n",
      "\t\t:PROJECT = \"USGS Coastal Marine Geology Program\" ;\n",
      "\t\t:EXPERIMENT = \"Sandwich Town Neck Beach January Storm\" ;\n",
      "\t\t:DESCRIPTION = \"RBR Solo 77827 on beach in south end of overwash channel\" ;\n",
      "\t\t:DATA_SUBTYPE = \"MOORED\" ;\n",
      "\t\t:DATA_ORIGIN = \"USGS WHCMSC Sediment Transport Group\" ;\n",
      "\t\t:COORD_SYSTEM = \"GEOGRAPHIC\" ;\n",
      "\t\t:Conventions = \"PMEL/EPIC\" ;\n",
      "\t\t:MOORING = \"1061\" ;\n",
      "\t\t:WATER_DEPTH = 0. ;\n",
      "\t\t:WATER_DEPTH_NOTE = \"(meters MLLW, based on surveyed elevation +2.14 m NAVD88), \" ;\n",
      "\t\t:NAVD88_elevation = 2.1364 ;\n",
      "\t\t:latitude = 41.76459 ;\n",
      "\t\t:longitude = -70.47905 ;\n",
      "\t\t:position_datum = \"NAD83(2011)\" ;\n",
      "\t\t:magnetic_variation = -14.8 ;\n",
      "\t\t:Deployment_date = \"1/21/16 21:00:00\" ;\n",
      "\t\t:Recovery_date = \"1/25/16 22:00:00\" ;\n",
      "\t\t:DATA_CMNT = \"P_1ac and D_3 corrected with barometric pressure from nearby platform 10601hlm\" ;\n",
      "\t\t:platform_type = \"lead disk- RBR clamped underneath, tilt current meter above \" ;\n",
      "\t\t:DRIFTER = 0. ;\n",
      "\t\t:POS_CONST = 0. ;\n",
      "\t\t:DEPTH_CONST = 0. ;\n",
      "\t\t:institution = \"United States Geological Survey, Woods Hole Coastal and Marine Science Center\" ;\n",
      "\t\t:institution_url = \"http://woodshole.er.usgs.gov\" ;\n",
      "\t\t:initial_instrument_height = -0.012 ;\n",
      "\t\t:INST_TYPE = \"RBR Solo\" ;\n",
      "\t\t:serial_number = \"077827\" ;\n",
      "\t\t:DELTA_T = 1. ;\n",
      "\t\t:CREATION_DATE = \"03-Oct-2016 15:11:54\" ;\n",
      "\t\t:start_time = \"21-Jan-2016 22:00:00\" ;\n",
      "\t\t:stop_time = \"25-Jan-2016 16:00:00\" ;\n",
      "\t\t:Model = \"RBRsolo\" ;\n",
      "\t\t:Firmware = \"3.0\" ;\n",
      "\t\t:HostVersion = \"1.12.1\" ;\n",
      "\t\t:LoggingSamplingPeriod = 500. ;\n",
      "\t\t:NumberofChannels = 2. ;\n",
      "\t\t:NumberOfSamples = 922244. ;\n",
      "\t\t:Channel1_name = \"Pressure\" ;\n",
      "\t\t:Channel1_units = \"dbar\" ;\n",
      "\t\t:Channel1_rangingMode = \"None\" ;\n",
      "\t\t:Channel1_calibration = \"9.39229      42.2819      2.21383     0.644775\" ;\n",
      "\t\t:Channel2_name = \"Temperature\" ;\n",
      "\t\t:Channel2_units = \"ï¿½C\" ;\n",
      "\t\t:Channel2_rangingMode = \"None\" ;\n",
      "\t\t:Channel2_calibration = \"0.0033922  -0.0002776  5.0179e-06 -6.1405e-07\" ;\n",
      "\t\t:history = \"corr_depth_htNative fixed WATER_DEPTH and sensor_depth attributes: Trimmed using trunc_cdfNative,  SVN $Revision: 5793 $ to select records in the range 72001 to 720001.P_1ac and D_3 corrected with barometric pressure from nearby platform 10601hlm\" ;\n",
      "\t\t:MODIFICATION_date = \"15-Nov-2016 14:51:44\" ;\n",
      "\t\t:DODS_EXTRA.Unlimited_Dimension = \"time\" ;\n",
      "}\n"
     ]
    }
   ],
   "source": [
    "!ncdump -h https://stellwagen.er.usgs.gov/thredds/dodsC/TSdata/SANDWICH2016/10612dw-a.nc"
   ]
  },
  {
   "cell_type": "code",
   "execution_count": null,
   "metadata": {},
   "outputs": [],
   "source": []
  }
 ],
 "metadata": {
  "kernelspec": {
   "display_name": "Python [conda env:crawler]",
   "language": "python",
   "name": "conda-env-crawler-py"
  },
  "language_info": {
   "codemirror_mode": {
    "name": "ipython",
    "version": 3
   },
   "file_extension": ".py",
   "mimetype": "text/x-python",
   "name": "python",
   "nbconvert_exporter": "python",
   "pygments_lexer": "ipython3",
   "version": "3.6.6"
  }
 },
 "nbformat": 4,
 "nbformat_minor": 2
}
