{
 "cells": [
  {
   "cell_type": "code",
   "execution_count": 1,
   "metadata": {},
   "outputs": [],
   "source": [
    "# activate crawler env 1st!\n",
    "import os\n",
    "import netCDF4 as nc4\n",
    "from thredds_crawler.crawl import Crawl"
   ]
  },
  {
   "cell_type": "code",
   "execution_count": 4,
   "metadata": {},
   "outputs": [],
   "source": [
    "catalog = 'https://gamone.whoi.edu/thredds/silt/usgs/Projects/stellwagen/Data/catalog.xml'\n",
    "\n",
    "# there should be no _Fillvalue in the depth variable because it is a dimension\n",
    "# some adcp files have this problem\n",
    "bad_attribute = '_FillValue'\n",
    "bad_var = 'depth'\n",
    "\n",
    "#dirlist = ('MYRTLEBEACH','DIAMOND_SHOALS', 'NEARSHORE','HURRIRENE_BB','MVCO_11','FI12','FI14')\n",
    "#dirlist = ('PV_SHELF07','BARNEGAT','BARNEGAT_2014','RCNWR')\n",
    "#dirlist = ('CALSCTWET','CHINCOTEAGUE')\n",
    "#dirlist = ('MBAY_LT','MBAY_LTB')\n",
    "# you need at least 2 things in dirlist or else it reads everyting in the main catalog\n",
    "dirlist = ('HUDSON_SVALLEY','HURRIRENE_BB') \n",
    "#dirlist=('CALSCTWET','CAMP','CAPE_COD_BAY','CC_MISC','CHANDELEUR_13','CHINCOTEAGUE')"
   ]
  },
  {
   "cell_type": "code",
   "execution_count": 5,
   "metadata": {},
   "outputs": [
    {
     "name": "stdout",
     "output_type": "stream",
     "text": [
      "Found 177 datasets\n"
     ]
    }
   ],
   "source": [
    "c = Crawl(catalog, select=[\n",
    "    '.*{}.*'.format(x) for x in dirlist])\n",
    "urls = [s.get(\"url\") for d in c.datasets for s in d.services if s.get(\"service\").lower() == \"opendap\"]\n",
    "\n",
    "print(\"Found {} datasets\".format(len(urls)))"
   ]
  },
  {
   "cell_type": "code",
   "execution_count": 6,
   "metadata": {},
   "outputs": [
    {
     "name": "stdout",
     "output_type": "stream",
     "text": [
      "_FillValue in depth in https://gamone.whoi.edu/thredds/dodsC/silt/usgs/Projects/stellwagen/Data/HURRIRENE_BB/9141wh-a.nc\n"
     ]
    }
   ],
   "source": [
    "for fn in urls:\n",
    "    if \"nc\" in fn or \"cdf\" in fn:\n",
    "        with nc4.Dataset(fn) as fnc:\n",
    "            nc_var = fnc.variables.get(bad_var)\n",
    "            if hasattr(nc_var, bad_attribute):\n",
    "                print ('_FillValue in depth in ' + fn)"
   ]
  },
  {
   "cell_type": "markdown",
   "metadata": {},
   "source": [
    "#copied output to FV_in_depthvar.txt"
   ]
  }
 ],
 "metadata": {
  "kernelspec": {
   "display_name": "Python [default]",
   "language": "python",
   "name": "python3"
  },
  "language_info": {
   "codemirror_mode": {
    "name": "ipython",
    "version": 3
   },
   "file_extension": ".py",
   "mimetype": "text/x-python",
   "name": "python",
   "nbconvert_exporter": "python",
   "pygments_lexer": "ipython3",
   "version": "3.6.6"
  }
 },
 "nbformat": 4,
 "nbformat_minor": 2
}
