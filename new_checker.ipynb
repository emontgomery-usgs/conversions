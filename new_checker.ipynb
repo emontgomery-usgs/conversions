{
 "cells": [
  {
   "cell_type": "code",
   "execution_count": 2,
   "metadata": {},
   "outputs": [],
   "source": [
    "import netCDF4 as nc\n",
    "from netCDF4 import Dataset\n",
    "import glob\n",
    "import thredds_crawler\n",
    "from thredds_crawler.crawl import Crawl"
   ]
  },
  {
   "cell_type": "markdown",
   "metadata": {},
   "source": [
    "each of our TDS is a different version, and they have different behaviors \n",
    "when global atts are accessed"
   ]
  },
  {
   "cell_type": "code",
   "execution_count": 3,
   "metadata": {},
   "outputs": [],
   "source": [
    "fpath=\"https://stellwagen.er.usgs.gov/thredds/catalog/TSdata/SANDWICH2016/catalog.xml\"\n",
    "required_atts=('MOORING', 'INST_TYPE', 'serial_number')\n",
    "c = Crawl(fpath, select=[\".*nc\"])\n",
    "urls = [s.get(\"url\") for d in c.datasets for s in d.services if s.get(\"service\").lower() == \"opendap\"]"
   ]
  },
  {
   "cell_type": "code",
   "execution_count": 4,
   "metadata": {},
   "outputs": [
    {
     "name": "stdout",
     "output_type": "stream",
     "text": [
      "in SANDWICH2016/10591dw-a.nc mooring is 1059: there is a RBR Virtuouso D|wave; SN 055025\n",
      "in SANDWICH2016/10591dw-a.nc mooring is 1059: there is a RBR Virtuouso D|wave; SN 055025\n",
      "in SANDWICH2016/10591dwvs-cal.nc mooring is 1059: there is a RBR Virtuouso D|wave; SN 055025\n",
      "in SANDWICH2016/10591dwvs-cal.nc mooring is 1059: there is a RBR Virtuouso D|wave; SN 055025\n",
      "in SANDWICH2016/10601hwlb-a.nc mooring is 10601: there is a Hobo pressure logger; SN 10313354\n",
      "in SANDWICH2016/10601hwlb-a.nc mooring is 10601: there is a Hobo pressure logger; SN 10313354\n",
      "in SANDWICH2016/10602dw-a.nc mooring is 1060: there is a RBR Solo; SN 077669\n",
      "in SANDWICH2016/10602dw-a.nc mooring is 1060: there is a RBR Solo; SN 077669\n",
      "in SANDWICH2016/10612dw-a.nc mooring is 1061: there is a RBR Solo; SN 077827\n",
      "in SANDWICH2016/10612dw-a.nc mooring is 1061: there is a RBR Solo; SN 077827\n",
      "in SANDWICH2016/10622dw-a.nc mooring is 1062: there is a RBR Solo; SN 077828\n",
      "in SANDWICH2016/10622dw-a.nc mooring is 1062: there is a RBR Solo; SN 077828\n",
      "in SANDWICH2016/10631whV-a.nc it failed because something unidentified is wrong with atts\n",
      "failed trying to read SANDWICH2016/10631whV-cal.nc\n",
      "in SANDWICH2016/10631whVp-cal.nc did not bomb but is missing one of the 3 atts\n",
      "in SANDWICH2016/10632mc-a.nc mooring is 1063: there is a Seabird mc 37 -SM; SN mc-0310\n",
      "in SANDWICH2016/10632mc-a.nc mooring is 1063: there is a Seabird mc 37 -SM; SN mc-0310\n",
      "in SANDWICH2016/10633ecn-a.nc did not bomb but is missing one of the 3 atts\n",
      "in SANDWICH2016/10634dwb-cal.nc mooring is 1063: there is a RBR Virtuouso D|wave; SN 55110\n",
      "in SANDWICH2016/10634dwb-cal.nc mooring is 1063: there is a RBR Virtuouso D|wave; SN 55110\n",
      "in SANDWICH2016/10634dws-a.nc it failed because something unidentified is wrong with atts\n",
      "in SANDWICH2016/10691dw-a.nc mooring is 1069: there is a RBR Dwave; SN 55025\n",
      "in SANDWICH2016/10691dw-a.nc mooring is 1069: there is a RBR Dwave; SN 55025\n",
      "in SANDWICH2016/10691dwvs-cal.nc mooring is 1069: there is a RBR Dwave; SN 55025\n",
      "in SANDWICH2016/10691dwvs-cal.nc mooring is 1069: there is a RBR Dwave; SN 55025\n",
      "in SANDWICH2016/10701hwlb-a.nc mooring is 1070: there is a pressure logger; SN 10079950\n",
      "in SANDWICH2016/10701hwlb-a.nc mooring is 1070: there is a pressure logger; SN 10079950\n"
     ]
    }
   ],
   "source": [
    "# fn='http://stellwagen.er.usgs.gov/thredds/dodsC/TSdata/SANDWICH2016/10631whVp-cal.nc'\n",
    "for fn in urls:\n",
    "    spec_file = '/'.join(fn.rsplit('/', maxsplit=2)[1:])\n",
    "    try:\n",
    "        with nc.Dataset(fn) as fnc:\n",
    "            globatt_dict=fnc.__dict__\n",
    "            #globatt_list=fnc.ncattrs()    # don't need to do as a list\n",
    "            try:\n",
    "                if all(k in globatt_dict for k in required_atts):\n",
    "                    msg = 'in '+ spec_file + ' mooring is ' + globatt_dict['MOORING'] +': there is a '\\\n",
    "                           + globatt_dict['INST_TYPE'] +'; SN '+ globatt_dict['serial_number'] \n",
    "                    print (msg)\n",
    "                else:\n",
    "                    msg=\"in \"+ spec_file + \" did not bomb but is missing one of the 3 atts\"\n",
    "            except:\n",
    "                msg=\"in \" + spec_file +\" it failed because something unidentified is wrong with atts\"\n",
    "            print(msg)\n",
    "    except OSError:\n",
    "            print('failed trying to read ' + spec_file)"
   ]
  },
  {
   "cell_type": "markdown",
   "metadata": {},
   "source": [
    "now try access from gamone"
   ]
  },
  {
   "cell_type": "code",
   "execution_count": null,
   "metadata": {},
   "outputs": [],
   "source": [
    "fpath=\"https://gamone.whoi.edu/thredds/silt/usgs/Projects/stellwagen/Data/SANDWICH2016/catalog.xml\"\n",
    "required_atts=('MOORING', 'INST_TYPE', 'serial_number')\n",
    "c = Crawl(fpath, select=[\".*nc\"])\n",
    "urls = [s.get(\"url\") for d in c.datasets for s in d.services if s.get(\"service\").lower() == \"opendap\"]"
   ]
  },
  {
   "cell_type": "code",
   "execution_count": null,
   "metadata": {},
   "outputs": [],
   "source": [
    "#print ('test of gamones OPeNDAP')\n",
    "for fn in urls:\n",
    "    spec_file = '/'.join(fn.rsplit('/', maxsplit=2)[1:])\n",
    "    try:\n",
    "        with nc.Dataset(fn) as fnc:\n",
    "            globatt_dict=fnc.__dict__\n",
    "            globatt_list=fnc.ncattrs()    # don't need to do as a list\n",
    "            try:\n",
    "                if all(k in globatt_dict for k in required_atts):\n",
    "                    msg = 'in '+ spec_file + ' mooring is ' + globatt_dict['MOORING'] +': there is a '\\\n",
    "                           + globatt_dict['INST_TYPE'] +'; SN '+ globatt_dict['serial_number'] \n",
    "                    print (msg)\n",
    "                else:\n",
    "                    msg=\"in \"+ spec_file + \" did not bomb but is missing one of the 3 atts\"\n",
    "            except:\n",
    "                msg=\"in \" + spec_file +\" it failed because something unidentified is wrong with atts\"\n",
    "            print(msg)\n",
    "    except OSError:\n",
    "            print('failed trying to read ' + spec_file)"
   ]
  },
  {
   "cell_type": "code",
   "execution_count": null,
   "metadata": {},
   "outputs": [],
   "source": [
    "#working out the needed syntax step 1\n",
    "for k in required_atts:\n",
    "    if k in globatt_dict:\n",
    "        print ('found ',k)"
   ]
  },
  {
   "cell_type": "code",
   "execution_count": null,
   "metadata": {},
   "outputs": [],
   "source": [
    "# using the all is the magic here, the 2 loops are combined\n",
    "# if required_atts in globatt_list:  # this syntax doesn't work for a list either\n",
    "if all(k in globatt_dict for k in required_atts):\n",
    "    print ('all present')\n",
    "else:\n",
    "    print('this condition does not work as I think it should')"
   ]
  },
  {
   "cell_type": "code",
   "execution_count": null,
   "metadata": {},
   "outputs": [],
   "source": [
    "# using the all is the magic here, the 2 loops are combined\n",
    "# if required_atts in globatt_list:  # this syntax doesn't work for a dict either\n",
    "if all(k in globatt_list for k in required_atts):\n",
    "    print ('all present')\n",
    "else:\n",
    "    print('this condition does not work as I think it should')"
   ]
  },
  {
   "cell_type": "code",
   "execution_count": null,
   "metadata": {},
   "outputs": [],
   "source": [
    "import netCDF4 as nc\n",
    "from netCDF4 import Dataset"
   ]
  },
  {
   "cell_type": "code",
   "execution_count": null,
   "metadata": {},
   "outputs": [],
   "source": [
    "#this was the original way I tried it- doesn't use \"all()\"\n",
    "fn='http://gamone.whoi.edu/thredds/dodsC/silt/usgs/Projects/stellwagen/Data/SANDWICH2016/10631whV-a.nc'\n",
    "required_atts=('MOORING', 'INST_TYPE', 'serial_number')\n",
    "try:\n",
    "    with nc.Dataset(fn) as fnc:\n",
    "        globatt_dict=fnc.__dict__\n",
    "        for k in required_atts:\n",
    "            if k in globatt_dict:\n",
    "                print ('found ',k)\n",
    "except OSError:\n",
    "    print('failed trying to read ' + spec_file)"
   ]
  },
  {
   "cell_type": "code",
   "execution_count": null,
   "metadata": {},
   "outputs": [],
   "source": [
    "# this is a newer method, in which I thought all solved problems- maybe not.\n",
    "fn='http://gamone.whoi.edu/thredds/dodsC/silt/usgs/Projects/stellwagen/Data/SANDWICH2016/10631whV-a.nc'\n",
    "required_atts=('MOORING', 'INST_TYPE', 'serial_number')\n",
    "try:\n",
    "    with nc.Dataset(fn) as fnc:\n",
    "        globatt_dict=fnc.__dict__\n",
    "        globatt_list=fnc.ncattrs()    # don't need to do as a list\n",
    "        try:\n",
    "            if all(k in globatt_dict for k in required_atts):\n",
    "                msg = 'in 10631whV mooring is ' + globatt_dict['MOORING'] +': there is a '\\\n",
    "                    + globatt_dict['INST_TYPE'] +'; SN '+ globatt_dict['serial_number'] \n",
    "                print (msg)\n",
    "            else:\n",
    "                msg=\"in 10631whV did not bomb but is missing one of the 3 atts\"\n",
    "                print (msg)\n",
    "        except:\n",
    "            msg=\"in 10631whV it failed because something unidentified is wrong with atts\"\n",
    "            print(msg)\n",
    "except OSError:\n",
    "    print('failed trying to read ' + spec_file)"
   ]
  },
  {
   "cell_type": "markdown",
   "metadata": {},
   "source": [
    " so far I learned that:\n",
    "    it doessn't matter if you access the glob atts from a dict or a list, \n",
    "    10631whV fails trying to read glob atts, regardless of which TDS is accessed\n",
    "    10631whV actually has all 3 required attributes. "
   ]
  },
  {
   "cell_type": "code",
   "execution_count": null,
   "metadata": {},
   "outputs": [],
   "source": [
    "# here's where I identify the problem:\n",
    "# first assign the file to the dataset and make the dict\n",
    "fn='http://gamone.whoi.edu/thredds/dodsC/silt/usgs/Projects/stellwagen/Data/SANDWICH2016/10631whV-a.nc'\n",
    "required_atts=('MOORING', 'INST_TYPE', 'serial_number')\n",
    "with nc.Dataset(fn) as fnc:\n",
    "        globatt_dict=fnc.__dict__\n",
    " "
   ]
  },
  {
   "cell_type": "code",
   "execution_count": null,
   "metadata": {},
   "outputs": [],
   "source": [
    "# now separate out the part where the error happens, and see the issue is trying to concatenate\n",
    "# a float SN into a string msg.  I could add checks to make sure all 3 required atts are strings\n",
    "# to solve the problem, but they shouldn't be strings anyhow.\n",
    "if all(k in globatt_dict for k in required_atts):\n",
    "    msg = 'in 10631whV mooring is ' + globatt_dict['MOORING'] +': there is a '\\\n",
    "        + globatt_dict['INST_TYPE'] +'; SN '+ globatt_dict['serial_number'] \n",
    "    print (msg)\n",
    "else:\n",
    "    msg=\"in 10631whV did not bomb but is missing one of the 3 atts\"\n",
    "    print (msg)"
   ]
  },
  {
   "cell_type": "code",
   "execution_count": null,
   "metadata": {},
   "outputs": [],
   "source": [
    "#confirm that the value for key 'serial_number' is float\n",
    "type(globatt_dict['serial_number'])"
   ]
  },
  {
   "cell_type": "markdown",
   "metadata": {},
   "source": [
    "So I should implement a check for type of the values before assembling the msg string"
   ]
  },
  {
   "cell_type": "code",
   "execution_count": 1,
   "metadata": {
    "scrolled": true
   },
   "outputs": [
    {
     "ename": "NameError",
     "evalue": "name 'globatt_dict' is not defined",
     "output_type": "error",
     "traceback": [
      "\u001b[1;31m---------------------------------------------------------------------------\u001b[0m",
      "\u001b[1;31mNameError\u001b[0m                                 Traceback (most recent call last)",
      "\u001b[1;32m<ipython-input-1-54b3391e8e78>\u001b[0m in \u001b[0;36m<module>\u001b[1;34m\u001b[0m\n\u001b[0;32m      1\u001b[0m \u001b[1;31m# I could check the types of the required keys this way (with more looping)\u001b[0m\u001b[1;33m\u001b[0m\u001b[1;33m\u001b[0m\u001b[0m\n\u001b[1;32m----> 2\u001b[1;33m \u001b[1;32mif\u001b[0m \u001b[1;32mnot\u001b[0m \u001b[0misinstance\u001b[0m\u001b[1;33m(\u001b[0m\u001b[0mglobatt_dict\u001b[0m\u001b[1;33m[\u001b[0m\u001b[1;34m'serial_number'\u001b[0m\u001b[1;33m]\u001b[0m\u001b[1;33m,\u001b[0m \u001b[0mtype\u001b[0m\u001b[1;33m(\u001b[0m\u001b[1;34m'str'\u001b[0m\u001b[1;33m)\u001b[0m\u001b[1;33m)\u001b[0m\u001b[1;33m:\u001b[0m\u001b[1;33m\u001b[0m\u001b[0m\n\u001b[0m\u001b[0;32m      3\u001b[0m     \u001b[0msn\u001b[0m\u001b[1;33m=\u001b[0m\u001b[0mstr\u001b[0m\u001b[1;33m(\u001b[0m\u001b[0mint\u001b[0m\u001b[1;33m(\u001b[0m\u001b[0mglobatt_dict\u001b[0m\u001b[1;33m[\u001b[0m\u001b[1;34m'serial_number'\u001b[0m\u001b[1;33m]\u001b[0m\u001b[1;33m)\u001b[0m\u001b[1;33m)\u001b[0m\u001b[1;33m\u001b[0m\u001b[0m\n\u001b[0;32m      4\u001b[0m     \u001b[0mprint\u001b[0m\u001b[1;33m(\u001b[0m\u001b[0msn\u001b[0m\u001b[1;33m)\u001b[0m\u001b[1;33m\u001b[0m\u001b[0m\n",
      "\u001b[1;31mNameError\u001b[0m: name 'globatt_dict' is not defined"
     ]
    }
   ],
   "source": [
    "# I could check the types of the required keys this way (with more looping)\n",
    "if not isinstance(globatt_dict['serial_number'], type('str')):\n",
    "    sn=str(int(globatt_dict['serial_number']))\n",
    "    print(sn)"
   ]
  },
  {
   "cell_type": "code",
   "execution_count": null,
   "metadata": {},
   "outputs": [],
   "source": []
  },
  {
   "cell_type": "code",
   "execution_count": null,
   "metadata": {},
   "outputs": [],
   "source": []
  }
 ],
 "metadata": {
  "kernelspec": {
   "display_name": "Python [conda env:crawler]",
   "language": "python",
   "name": "conda-env-crawler-py"
  },
  "language_info": {
   "codemirror_mode": {
    "name": "ipython",
    "version": 3
   },
   "file_extension": ".py",
   "mimetype": "text/x-python",
   "name": "python",
   "nbconvert_exporter": "python",
   "pygments_lexer": "ipython3",
   "version": "3.6.6"
  }
 },
 "nbformat": 4,
 "nbformat_minor": 2
}
