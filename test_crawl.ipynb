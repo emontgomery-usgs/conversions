{
 "cells": [
  {
   "cell_type": "code",
   "execution_count": 1,
   "metadata": {},
   "outputs": [],
   "source": [
    "# activate crawler env 1st!\n",
    "import os\n",
    "import netCDF4 as nc4\n",
    "from thredds_crawler.crawl import Crawl"
   ]
  },
  {
   "cell_type": "code",
   "execution_count": 2,
   "metadata": {},
   "outputs": [],
   "source": [
    "catalog = 'https://gamone.whoi.edu/thredds/silt/usgs/Projects/stellwagen/Data/catalog.xml'\n",
    "\n",
    "# these are the 3 keys in the global atts that we're checking\n",
    "required_attributes = ('MOORING', 'INST_TYPE', 'serial_number')\n",
    "\n",
    "dirlist = ('ARGO_MERCHANT', 'BARNEGAT', 'BARNEGAT_2014', 'BUZZ_BAY', 'BW_2011')\n",
    "dirlist2 = ['ARGO_MERCHANT', 'BARNEGAT', 'BARNEGAT_2014', 'BUZZ_BAY', 'BW_2011']\n",
    "#dirlist=('CALSCTWET','CAMP','CAPE_COD_BAY','CC_MISC','CHANDELEUR_13','CHINCOTEAGUE')\n",
    "#dirlist=('DAUPHIN','DEEP_REEF','DIAMONDSHOALS','DWDS_106','ECOHAB_I','ECOHAB_II','EUROSTRATAFORM')\n",
    "#dirlist=('DAUPHIN','DEEP_REEF')  "
   ]
  },
  {
   "cell_type": "code",
   "execution_count": null,
   "metadata": {},
   "outputs": [],
   "source": [
    "type(dirlist)"
   ]
  },
  {
   "cell_type": "code",
   "execution_count": null,
   "metadata": {},
   "outputs": [],
   "source": [
    "type(dirlist2)"
   ]
  },
  {
   "cell_type": "code",
   "execution_count": null,
   "metadata": {},
   "outputs": [],
   "source": [
    "print(dirlist[1].format())"
   ]
  },
  {
   "cell_type": "code",
   "execution_count": null,
   "metadata": {},
   "outputs": [],
   "source": [
    "print(dirlist2[1].format())"
   ]
  },
  {
   "cell_type": "code",
   "execution_count": null,
   "metadata": {},
   "outputs": [],
   "source": [
    "#There's a /whoi sub dir of BUZZ_BAY that we want to skip\n",
    "skips = Crawl.SKIPS + [\".*whoi*\"]"
   ]
  },
  {
   "cell_type": "code",
   "execution_count": null,
   "metadata": {},
   "outputs": [],
   "source": [
    "#the .format(x) in the next line is a string method, not a method of Crawl,\n",
    "# the string it's applied to is '.*{}.*', where the contents of x are inserted in {}\n",
    "# this one does only the files in the specified directory\n",
    "#c = Crawl(catalog, select=['.*{}.*'.format(x) for x in dirlist2], skip=skips)"
   ]
  },
  {
   "cell_type": "code",
   "execution_count": 6,
   "metadata": {},
   "outputs": [],
   "source": [
    "# this one does all the files in all the directories\n",
    "c = Crawl(catalog, select=['.*.*'])"
   ]
  },
  {
   "cell_type": "code",
   "execution_count": 7,
   "metadata": {},
   "outputs": [
    {
     "name": "stdout",
     "output_type": "stream",
     "text": [
      "Found 5403 datasets\n"
     ]
    }
   ],
   "source": [
    "urls = [s.get(\"url\") for d in c.datasets for s in d.services if s.get(\"service\").lower() == \"opendap\"]\n",
    "\n",
    "print(\"Found {} datasets\".format(len(urls)))"
   ]
  },
  {
   "cell_type": "code",
   "execution_count": 8,
   "metadata": {},
   "outputs": [
    {
     "name": "stdout",
     "output_type": "stream",
     "text": [
      "failed trying to read CAPE_COD_BAY/3073-A1H.cdf\n",
      "failed trying to read ECOHAB_I/4152-a1h.cdf\n",
      "failed trying to read ECOHAB_II/5223bsc-a.cdf\n",
      "failed trying to read GLOBEC_GB/5551psd-a.nc\n",
      "failed trying to read HUDSON_SVALLEY/5971adc-a1h-isOK.txt\n",
      "failed trying to read LYDONIA_C/2111T-A.cdf\n",
      "failed trying to read MAB_SED/1411DS2-A1H.cdf\n",
      "failed trying to read MAMALA_BAY/4711att-a.cdf\n",
      "failed trying to read ancillary/tau8911-a_d1.nc\n",
      "failed trying to read MBAY_LT/4071ox-a.nc\n",
      "failed trying to read MBAY_LT/4201p-a.nc\n",
      "failed trying to read MBAY_LT/4281tct-alp_d1.nc\n",
      "failed trying to read MBAY_LT/4621tct2-a1h_d1.nc\n",
      "failed trying to read MBAY_LT/6823sc-a.nc\n",
      "failed trying to read MBAY_LT/7663att-a.nc\n",
      "failed trying to read MBAY_LT/7761mc-a.nc\n",
      "failed trying to read MBAY_LT/7761mc-alp.nc\n",
      "failed trying to read MOBILE_BAY/3851-a.cdf\n",
      "failed trying to read MOBILE_BAY/3931p-a1h.cdf\n",
      "failed trying to read MONTEREY_BAY/4993Kpsd-a.nc\n",
      "failed trying to read MVCO_14/10356abss4s.cdf\n",
      "failed trying to read NE_SLOPE/2781P-1AA.cdf\n",
      "failed trying to read SED_TRANS/3931CST-A_d3.cdf\n",
      "failed trying to read SED_TRANS/aeb63708.cdf\n",
      "failed trying to read SED_TRANS/hcur1303.cdf\n",
      "failed trying to read WFAL_2017/10951hwl-a.nc\n",
      "failed trying to read WRIGHTSVILLE/4671r-a1h.cdf\n",
      "failed trying to read FI14/10003sgp-cal.nc\n",
      "failed trying to read FI14/10022sgp-cal.nc\n",
      "failed trying to read FI14/9863sgp-cal.nc\n",
      "failed trying to read FI14/9912sc-a.nc\n",
      "failed trying to read sand16/10631whV-a.nc\n",
      "failed trying to read sand16/10634dws-a.nc\n"
     ]
    }
   ],
   "source": [
    "with open('meta_fail_all.txt', 'w') as f:\n",
    "    \n",
    "    for fn in urls:\n",
    "        # Just getting a prettier representation of the dataset\n",
    "        spec_file = '/'.join(fn.rsplit('/', maxsplit=2)[1:])\n",
    "        all_atts = {}\n",
    "        try:\n",
    "            with nc4.Dataset(fn) as fnc:\n",
    "                for k in required_attributes:\n",
    "                    # .ncattrs returns a list of global attributes\n",
    "                    if k not in fnc.ncattrs():\n",
    "                        msg = k + ' not found in ' + spec_file\n",
    "                        #print(msg)\n",
    "                        f.write(msg)\n",
    "\n",
    "        except OSError:\n",
    "            print('failed trying to read ' + spec_file)"
   ]
  },
  {
   "cell_type": "code",
   "execution_count": null,
   "metadata": {},
   "outputs": [],
   "source": []
  }
 ],
 "metadata": {
  "kernelspec": {
   "display_name": "Python [default]",
   "language": "python",
   "name": "python3"
  },
  "language_info": {
   "codemirror_mode": {
    "name": "ipython",
    "version": 3
   },
   "file_extension": ".py",
   "mimetype": "text/x-python",
   "name": "python",
   "nbconvert_exporter": "python",
   "pygments_lexer": "ipython3",
   "version": "3.6.6"
  }
 },
 "nbformat": 4,
 "nbformat_minor": 2
}
