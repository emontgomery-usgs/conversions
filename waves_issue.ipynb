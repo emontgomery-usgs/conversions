{
 "cells": [
  {
   "cell_type": "code",
   "execution_count": 1,
   "metadata": {},
   "outputs": [],
   "source": [
    "# activate crawler env 1st!\n",
    "import netCDF4 as nc\n",
    "from netCDF4 import Dataset"
   ]
  },
  {
   "cell_type": "code",
   "execution_count": 2,
   "metadata": {},
   "outputs": [
    {
     "name": "stdout",
     "output_type": "stream",
     "text": [
      "MOORING not found in http://geoport.whoi.edu/thredds/dodsC/silt/usgs/Projects/stellwagen/Data/SANDWICH2016/10631whVp-cal.nc\n",
      "INST_TYPE not found in http://geoport.whoi.edu/thredds/dodsC/silt/usgs/Projects/stellwagen/Data/SANDWICH2016/10631whVp-cal.nc\n",
      "serial_number not found in http://geoport.whoi.edu/thredds/dodsC/silt/usgs/Projects/stellwagen/Data/SANDWICH2016/10631whVp-cal.nc\n"
     ]
    }
   ],
   "source": [
    "#The original problem was in Kyle's program where the thredds crawler got OPENDAP URLs\n",
    "# and seemed to point to using ncattrs syntax as the problem\n",
    "# trying to duplicate without having to run the crawler to get the URL\n",
    "#\n",
    "# this runs, but says none of the required_attributes are there\n",
    "# when the file HAS MOORING and INST_TYPE, but not serial_number\n",
    "\n",
    "required_attributes = ('MOORING', 'INST_TYPE', 'serial_number')\n",
    "#fn='http://geoport.whoi.edu/thredds/dodsC/silt/usgs/Projects/stellwagen/Data_tests/V_fv/SANDWICH2016/10631whVp-cal.nc'\n",
    "fn='http://geoport.whoi.edu/thredds/dodsC/silt/usgs/Projects/stellwagen/Data/SANDWICH2016/10631whVp-cal.nc'\n",
    "try:\n",
    "    with nc.Dataset(fn) as fnc:\n",
    "        for k in required_attributes:\n",
    "            # .ncattrs returns a list of global attributes \n",
    "            if k not in fnc.ncattrs():\n",
    "                msg = k + ' not found in ' + fn\n",
    "                print(msg)\n",
    "            else:\n",
    "                print('found ',k)                \n",
    "except OSError:\n",
    "    print('failed trying to read ' + spec_file)\n"
   ]
  },
  {
   "cell_type": "code",
   "execution_count": 3,
   "metadata": {},
   "outputs": [],
   "source": [
    "# I downloaded the file from SANDWICH2016 to try to find out what messes up netcdf4\n",
    "# when I try to interact with the attributes\n",
    "badnc=nc.Dataset('/home/ellyn/python_progs/conversions/10631whVp-cal.nc')"
   ]
  },
  {
   "cell_type": "code",
   "execution_count": 11,
   "metadata": {},
   "outputs": [
    {
     "name": "stdout",
     "output_type": "stream",
     "text": [
      "['outFileRoot', 'MOORING', 'Deployment_date', 'Recovery_date', 'DATA_ORIGIN', 'WATER_DEPTH', 'WATER_DEPTH_datum', 'EXPERIMENT', 'PROJECT', 'DESCRIPT', 'DATA_CMNT', 'SciPi', 'latitudes', 'longitude', 'magnetic_variation_at_site', 'magnetic_variation_applied', 'ADCP_serial_number', 'ADCPBinSize', 'wavesmon_version', 'wavesmon_isV', 'metafile_name', 'metafile_author', 'metafile_version', 'logfilename', 'CREATION_DATE', 'INST_TYPE', 'WATER_DEPTH_source', 'DATA_TYPE', 'DATA_SUBTYPE', 'COORD_SYSTEM', 'WATER_MASS', 'POS_CONST', 'DEPTH_CONST', 'DRIFTER', 'VAR_FILL', 'FILL_FLAG', 'COMPOSITE', 'platform_type', 'history', 'latitude', 'latitude_units', 'longitude_units', 'modification_date', 'initial_instrument_height', 'initial_instrument_height_note', 'nominal_sensor_depth', 'nominal_sensor_depth_note', 'WavesMonCfg.FileOK', 'WavesMonCfg.ErrorLogging', 'WavesMonCfg.Auto_Configure', 'WavesMonCfg.InPath', 'WavesMonCfg.InFile', 'WavesMonCfg.Velocity_Text_File', 'WavesMonCfg.OutPath', 'WavesMonCfg.OutFile', 'WavesMonCfg.Skip', 'WavesMonCfg.NBursts', 'WavesMonCfg.Mode', 'WavesMonCfg.MaxFSize', 'WavesMonCfg.HoursHist', 'WavesMonCfg.NRecordsHist', 'WavesMonCfg.HWarnLevel', 'WavesMonCfg.HDangerLevel', 'WavesMonCfg.TpWarnLevel', 'WavesMonCfg.TpDangerLevel', 'WavesMonCfg.HsScale', 'WavesMonCfg.EScale', 'WavesMonCfg.SIUnits', 'WavesMonCfg.Expect_Wave_Packets', 'WavesMonCfg.Display_Hs_Time_Series', 'WavesMonCfg.Display_Tp_Time_Series', 'WavesMonCfg.Display_Dp_Time_Series', 'WavesMonCfg.Display_WL_Time_Series', 'WavesMonCfg.Display_Directional_Spectra', 'WavesMonCfg.Display_Surface_Spectra', 'WavesMonCfg.Display_Velocity_Spectra', 'WavesMonCfg.Display_Pressure_Spectra', 'WavesMonCfg.Display_Wave_Height_Spectra_Plot', 'WavesMonCfg.Batch_File_to_run_after_waves_processing', 'WavesMonCfg.VelTimeSeries', 'WavesMonCfg.IntTimeSeries', 'WavesMonCfg.SurfTimeSeries', 'WavesMonCfg.PressTimeSeries', 'WavesMonCfg.VelSpectra', 'WavesMonCfg.SurfSpectra', 'WavesMonCfg.PressSpectra', 'WavesMonCfg.DirSpectra', 'WavesMonCfg.SurfaceDirSpectra', 'WavesMonCfg.WaveParams', 'WavesMonCfg.Process_VelTimeSeries', 'WavesMonCfg.Process_IntTimeSeries', 'WavesMonCfg.Process_SurfTimeSeries', 'WavesMonCfg.Process_PressTimeSeries', 'WavesMonCfg.Process_VelSpectra', 'WavesMonCfg.Process_SurfSpectra', 'WavesMonCfg.Process_PressSpectra', 'WavesMonCfg.Process_DirSpectra', 'WavesMonCfg.Process_SurfDirSpectra', 'WavesMonCfg.Process_WaveParams', 'WavesMonCfg.Process_HPR_Series', 'WavesMonCfg.DumpText', 'WavesMonCfg.SaveBin', 'WavesMonCfg.ShowE', 'WavesMonCfg.NDataTypes', 'WavesMonCfg.EPB', 'WavesMonCfg.TBE', 'WavesMonCfg.TBB', 'WavesMonCfg.BeamConf', 'WavesMonCfg.NomDepth', 'WavesMonCfg.XdcrAlt', 'WavesMonCfg.SOS', 'WavesMonCfg.DepthOffset', 'WavesMonCfg.DepthScale', 'WavesMonCfg.AltOffset', 'WavesMonCfg.NominalHeading', 'WavesMonCfg.HeadingOffset', 'WavesMonCfg.ApplyMagVar', 'WavesMonCfg.StartTime', 'WavesMonCfg.NBeams', 'WavesMonCfg.Horizontal_Setup_Type', 'WavesMonCfg.Downward_Setup_Type', 'WavesMonCfg.ADCP_Coordinate_System', 'WavesMonCfg.VelMin', 'WavesMonCfg.Bottom_Slope_X_axis', 'WavesMonCfg.Bottom_Slope_Y_axis', 'WavesMonCfg.VelMax', 'WavesMonCfg.VelSTD', 'WavesMonCfg.VelMaxChng', 'WavesMonCfg.VelPctGd', 'WavesMonCfg.SurfMin', 'WavesMonCfg.SurfMax', 'WavesMonCfg.SurfSTD', 'WavesMonCfg.SurfMaxChng', 'WavesMonCfg.SurfPctGd', 'WavesMonCfg.Surf_Peak_Amplitude_Threshold', 'WavesMonCfg.Surfacetrack_Max_Search_Range', 'WavesMonCfg.Surfacetrack_Using_Search_Window_defined_by_pressure_sensor', 'WavesMonCfg.TBEMaxDev', 'WavesMonCfg.HMaxDev', 'WavesMonCfg.PRMaxDev', 'WavesMonCfg.Small_Wave_Freq', 'WavesMonCfg.Small_Wave_Thresh', 'WavesMonCfg.Fix_SOS', 'WavesMonCfg.Screen_Direction_Start', 'WavesMonCfg.Screen_Direction_Stop', 'WavesMonCfg.Min_SNR_in_std_for_spectra', 'WavesMonCfg.extrapolate_unmeasured_spectrum', 'WavesMonCfg.Infra-Gravity_Wave_Setup', 'WavesMonCfg.Sea-Swell_Transition_Period', 'WavesMonCfg.Low_Correlation_Threshold', 'WavesMonCfg.Fish_Amplitude_Threshold', 'WavesMonCfg.Error_Velocity_Threshold', 'WavesMonCfg.Bin_Mapping', 'WavesMonCfg.Bin_Mapping_Beam_5', 'WavesMonCfg.Coordinate_Transform_Beam_5', 'WavesMonCfg.Ping1_Ping2_averaging_compatibility', 'WavesMonCfg.High_Correlation_Threshold', 'WavesMonCfg.NFreqBins', 'WavesMonCfg.NDir', 'WavesMonCfg.FFTLen', 'WavesMonCfg.WindowType', 'WavesMonCfg.Surf4Depth', 'WavesMonCfg.Press4Depth', 'WavesMonCfg.TransV2Surf', 'WavesMonCfg.HoldDisplay', 'WavesMonCfg.Iterations', 'WavesMonCfg.Over_Relaxation_Gain', 'WavesMonCfg.DummySurf', 'WavesMonCfg.SampleRate', 'WavesMonCfg.FreqThresh', 'WavesMonCfg.Surf_FreqThresh', 'WavesMonCfg.Press_FreqThresh', 'WavesMonCfg.LowerFreqThresh', 'WavesMonCfg.RemoveBias', 'WavesMonCfg.Clip_Negative_Values_to_0_in_Pwr_Spec', 'WavesMonCfg.MinPeriod', 'WavesMonCfg.MaxPeriod', 'WavesMonCfg.InvertFreqAxis', 'WavesMonCfg.Correct_Waves_for_Mean_Currents', 'WavesMonCfg.ScaleSpec', 'WavesMonCfg.Use_File_Buffer_Rather_Than_Memory_Buffer_if_RAM_is_Sparse', 'WavesMonCfg.Simulate', 'WavesMonCfg.Simulated_Freq_Lo', 'WavesMonCfg.Simulated_Freq_Hi', 'WavesMonCfg.Simulated_Direction_1', 'WavesMonCfg.Simulation_Type', 'WavesMonCfg.Simulated_Freq_Lo_2', 'WavesMonCfg.Simulated_Freq_Hi_2', 'WavesMonCfg.Simulated_Direction_2', 'WavesMonCfg.Simulated_Direction_Spread', 'WavesMonCfg.Simulated_Direction_Spread_2', 'WavesMonCfg.Simulated_Signal_Level', 'WavesMonCfg.Simulated_Signal_Level2', 'WavesMonCfg.Simulated_Noise_Level', 'WavesMonCfg.Simulated_Depth_Cell_Size', 'WavesMonCfg.Simulated_Blanking_Dist', 'WavesMonCfg.Simulated_Sea_State_1__flat_wind_sea_swell_', 'WavesMonCfg.Simulated_Sea_State_2__flat_wind_sea_swell_', 'WavesMonCfg.Edit5', 'WavesMonCfg.Edit6', 'WavesMonCfg.Check1', 'WavesMonCfg.Call_WaveView_To_Make_Images', 'WavesMonCfg.Do_UVW_Triplet_Processing', 'WavesMonCfg.Output_Dir_Spec_squared_in_both_Dimensioins_so_integrated_dir_e', 'WavesMonCfg.Modeling_Assumptions_Used_for_Trieplet_Processing', 'WavesMonCfg.VSpec_Offset', 'WavesMonCfg.SSpec_Offset', 'WavesMonCfg.PSpec_Offset', 'WavesMonCfg.WaveParamSource', 'WavesMonCfg.Screen_this_Spectrum_First_if_they_do_not_compare', 'WavesMonCfg.Auto_Bin_Selection', 'WavesMonCfg.Calibrate_Pressure_Sensor_Average_Depth_Using_Surface_Track_Avg', 'WavesMonCfg.Freq_Bands_for_Directional_Spectrum', 'WavesMonCfg.Correct_for_Tilted_Orientation', 'WavesMonCfg.Fixed_Pitch', 'WavesMonCfg.Fixed_Roll', 'WavesMonCfg.VelTSBins', 'WavesMonCfg.IntTSBins', 'WavesMonCfg.VSpecBins', 'WavesMonCfg.DirSpecBins', 'VAR_DESC', 'WavesMonCfg.LogDataFile', 'start_time', 'stop_time', 'DELTA_T']\n"
     ]
    }
   ],
   "source": [
    "print(badnc.ncattrs())"
   ]
  },
  {
   "cell_type": "code",
   "execution_count": 4,
   "metadata": {},
   "outputs": [
    {
     "data": {
      "text/plain": [
       "'WAVESPEC'"
      ]
     },
     "execution_count": 4,
     "metadata": {},
     "output_type": "execute_result"
    }
   ],
   "source": [
    "badnc.DATA_TYPE"
   ]
  },
  {
   "cell_type": "code",
   "execution_count": 5,
   "metadata": {},
   "outputs": [
    {
     "ename": "AttributeError",
     "evalue": "NetCDF: Attribute not found",
     "output_type": "error",
     "traceback": [
      "\u001b[0;31m---------------------------------------------------------------------------\u001b[0m",
      "\u001b[0;31mAttributeError\u001b[0m                            Traceback (most recent call last)",
      "\u001b[0;32m<ipython-input-5-322b1e18b247>\u001b[0m in \u001b[0;36m<module>\u001b[0;34m\u001b[0m\n\u001b[1;32m      2\u001b[0m \u001b[0;31m# Python3 seems to interpret the .NBeams as a method that it can't find.\u001b[0m\u001b[0;34m\u001b[0m\u001b[0;34m\u001b[0m\u001b[0m\n\u001b[1;32m      3\u001b[0m \u001b[0;31m# all the WavesMon* global attributes can't be read,\u001b[0m\u001b[0;34m\u001b[0m\u001b[0;34m\u001b[0m\u001b[0m\n\u001b[0;32m----> 4\u001b[0;31m \u001b[0mbadnc\u001b[0m\u001b[0;34m.\u001b[0m\u001b[0mWavesMonCfg\u001b[0m\u001b[0;34m.\u001b[0m\u001b[0mNBeams\u001b[0m\u001b[0;34m\u001b[0m\u001b[0m\n\u001b[0m",
      "\u001b[0;32mnetCDF4/_netCDF4.pyx\u001b[0m in \u001b[0;36mnetCDF4._netCDF4.Dataset.__getattr__\u001b[0;34m()\u001b[0m\n",
      "\u001b[0;32mnetCDF4/_netCDF4.pyx\u001b[0m in \u001b[0;36mnetCDF4._netCDF4.Dataset.getncattr\u001b[0;34m()\u001b[0m\n",
      "\u001b[0;32mnetCDF4/_netCDF4.pyx\u001b[0m in \u001b[0;36mnetCDF4._netCDF4._get_att\u001b[0;34m()\u001b[0m\n",
      "\u001b[0;32mnetCDF4/_netCDF4.pyx\u001b[0m in \u001b[0;36mnetCDF4._netCDF4._ensure_nc_success\u001b[0;34m()\u001b[0m\n",
      "\u001b[0;31mAttributeError\u001b[0m: NetCDF: Attribute not found"
     ]
    }
   ],
   "source": [
    "# I think the problem is the '.' that's in the attribute name, when used in this way \n",
    "# Python3 seems to interpret the .NBeams as a method that it can't find.\n",
    "# all the WavesMon* global attributes can't be read,\n",
    "badnc.WavesMonCfg.NBeams"
   ]
  },
  {
   "cell_type": "code",
   "execution_count": 6,
   "metadata": {},
   "outputs": [
    {
     "name": "stdout",
     "output_type": "stream",
     "text": [
      "WavesMonCfg.NBeams found in global atts\n"
     ]
    }
   ],
   "source": [
    "#So here's the equivalent on the local code\n",
    "k='WavesMonCfg.NBeams'\n",
    "if k in badnc.ncattrs():\n",
    "    msg = k + ' found in global atts'\n",
    "    print(msg)"
   ]
  },
  {
   "cell_type": "code",
   "execution_count": 7,
   "metadata": {},
   "outputs": [
    {
     "data": {
      "text/plain": [
       "4.0"
      ]
     },
     "execution_count": 7,
     "metadata": {},
     "output_type": "execute_result"
    }
   ],
   "source": [
    "# seems like you can access it from a dict though\n",
    "all_atts=badnc.__dict__\n",
    "all_atts['WavesMonCfg.NBeams']"
   ]
  },
  {
   "cell_type": "code",
   "execution_count": 8,
   "metadata": {},
   "outputs": [
    {
     "data": {
      "text/plain": [
       "OrderedDict([('time',\n",
       "              <class 'netCDF4._netCDF4.Dimension'> (unlimited): name = 'time', size = 2393),\n",
       "             ('lat',\n",
       "              <class 'netCDF4._netCDF4.Dimension'>: name = 'lat', size = 1),\n",
       "             ('lon',\n",
       "              <class 'netCDF4._netCDF4.Dimension'>: name = 'lon', size = 1),\n",
       "             ('frequency',\n",
       "              <class 'netCDF4._netCDF4.Dimension'>: name = 'frequency', size = 64),\n",
       "             ('direction',\n",
       "              <class 'netCDF4._netCDF4.Dimension'>: name = 'direction', size = 360)])"
      ]
     },
     "execution_count": 8,
     "metadata": {},
     "output_type": "execute_result"
    }
   ],
   "source": [
    "# other aspects of the file seem to work fine\n",
    "# I can query the dimensions\n",
    "badnc.dimensions"
   ]
  },
  {
   "cell_type": "code",
   "execution_count": 9,
   "metadata": {},
   "outputs": [
    {
     "name": "stdout",
     "output_type": "stream",
     "text": [
      "wave height units are :  m\n"
     ]
    }
   ],
   "source": [
    "#Access variables\n",
    "wvht = badnc.variables.get(\"wh_4061\")\n",
    "whatts=wvht.__dict__\n",
    "if 'units' in whatts:\n",
    "    print('wave height units are : ', getattr(wvht,'units'))"
   ]
  },
  {
   "cell_type": "code",
   "execution_count": null,
   "metadata": {},
   "outputs": [],
   "source": []
  },
  {
   "cell_type": "code",
   "execution_count": null,
   "metadata": {},
   "outputs": [],
   "source": []
  }
 ],
 "metadata": {
  "kernelspec": {
   "display_name": "Python [conda env:crawler]",
   "language": "python",
   "name": "conda-env-crawler-py"
  },
  "language_info": {
   "codemirror_mode": {
    "name": "ipython",
    "version": 3
   },
   "file_extension": ".py",
   "mimetype": "text/x-python",
   "name": "python",
   "nbconvert_exporter": "python",
   "pygments_lexer": "ipython3",
   "version": "3.6.6"
  }
 },
 "nbformat": 4,
 "nbformat_minor": 2
}
