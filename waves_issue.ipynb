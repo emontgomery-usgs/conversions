{
 "cells": [
  {
   "cell_type": "code",
   "execution_count": 1,
   "metadata": {},
   "outputs": [],
   "source": [
    "# activate crawler env 1st!\n",
    "import netCDF4 as nc\n",
    "from netCDF4 import Dataset\n",
    "import thredds_crawler\n",
    "from thredds_crawler.crawl import Crawl"
   ]
  },
  {
   "cell_type": "code",
   "execution_count": 2,
   "metadata": {},
   "outputs": [
    {
     "name": "stdout",
     "output_type": "stream",
     "text": [
      "in SANDWICH2016/10631whVp-cal.nc did not bomb but is missing one of the 3 atts\n"
     ]
    }
   ],
   "source": [
    "#The original problem was in Kyle's program where the thredds crawler got OPENDAP URLs\n",
    "# and seemed to point to using ncattrs syntax as the problem\n",
    "# trying to duplicate without having to run the crawler to get the URL\n",
    "#\n",
    "# this runs and does the right thing, once I got the all( if for) syntax right\n",
    "# the file has MOORING and INST_TYPE, but not serial_number\n",
    "\n",
    "required_atts = ('MOORING', 'INST_TYPE', 'serial_number')\n",
    "# querying stellwagen is needed to check the EPIC atts\n",
    "#fn='https://stellwagen.er.usgs.gov/thredds/catalog/TSdata/SANDWICH2016/10631whVp-cal.nc'\n",
    "# this is the error generated:\n",
    "#    failed trying to read https://stellwagen.er.usgs.gov/thredds/catalog/TSdata/SANDWICH2016/10631whVp-cal.nc\n",
    "#fn='http://geoport.whoi.edu/thredds/dodsC/silt/usgs/Projects/stellwagen/Data_tests/V_fv/SANDWICH2016/10631whVp-cal.nc'\n",
    "# using gamone, because it's the most up-to-date of our TDS\n",
    "fn='http://gamone.whoi.edu/thredds/dodsC/silt/usgs/Projects/stellwagen/Data/SANDWICH2016/10631whVp-cal.nc'\n",
    "# this is the error generated:\n",
    "#   in SANDWICH2016/10631whVp-cal.nc did not bomb but is missing one of the 3 atts\n",
    "spec_file = '/'.join(fn.rsplit('/', maxsplit=2)[1:])\n",
    "try:\n",
    "    with nc.Dataset(fn) as fnc:\n",
    "        globatt_dict=fnc.__dict__\n",
    "        #for k in required_attributes:\n",
    "        try:\n",
    "            if all(k in globatt_dict for k in required_atts):\n",
    "                msg = 'in '+ spec_file + ' mooring is ' + globatt_dict['MOORING'] +': there is a '\\\n",
    "                    + globatt_dict['INST_TYPE'] +'; SN '+ globatt_dict['serial_number'] \n",
    "            else:\n",
    "                msg=\"in \"+ spec_file + \" did not bomb but is missing one of the 3 atts\"\n",
    "            print(msg)\n",
    "        except:\n",
    "            msg=\"in \" + spec_file +\" it failed because one or more of the requred atts missing\"\n",
    "            print(msg)\n",
    "except OSError:\n",
    "    print('failed trying to read ' + fn)\n"
   ]
  },
  {
   "cell_type": "code",
   "execution_count": 3,
   "metadata": {},
   "outputs": [],
   "source": [
    "# now examine the problem file\n",
    "badnc=nc.Dataset('http://gamone.whoi.edu/thredds/dodsC/silt/usgs/Projects/stellwagen/Data/SANDWICH2016/10631whVp-cal.nc')"
   ]
  },
  {
   "cell_type": "code",
   "execution_count": 4,
   "metadata": {},
   "outputs": [
    {
     "data": {
      "text/plain": [
       "'WAVESPEC'"
      ]
     },
     "execution_count": 4,
     "metadata": {},
     "output_type": "execute_result"
    }
   ],
   "source": [
    "#demonstrates a global attribute with no '.' can be accessed with this syntax\n",
    "badnc.DATA_TYPE"
   ]
  },
  {
   "cell_type": "code",
   "execution_count": 5,
   "metadata": {},
   "outputs": [
    {
     "ename": "AttributeError",
     "evalue": "NetCDF: Attribute not found",
     "output_type": "error",
     "traceback": [
      "\u001b[1;31m---------------------------------------------------------------------------\u001b[0m",
      "\u001b[1;31mAttributeError\u001b[0m                            Traceback (most recent call last)",
      "\u001b[1;32m<ipython-input-5-834774da1db8>\u001b[0m in \u001b[0;36m<module>\u001b[1;34m\u001b[0m\n\u001b[0;32m      1\u001b[0m \u001b[1;31m# I think the problem is the '.' that's in the attribute name, when used in this way\u001b[0m\u001b[1;33m\u001b[0m\u001b[1;33m\u001b[0m\u001b[0m\n\u001b[0;32m      2\u001b[0m \u001b[1;31m# Python3 seems to interpret the .NBeams as a method that it can't find.\u001b[0m\u001b[1;33m\u001b[0m\u001b[1;33m\u001b[0m\u001b[0m\n\u001b[1;32m----> 3\u001b[1;33m \u001b[0mbadnc\u001b[0m\u001b[1;33m.\u001b[0m\u001b[0mWavesMonCfg\u001b[0m\u001b[1;33m.\u001b[0m\u001b[0mNBeams\u001b[0m\u001b[1;33m\u001b[0m\u001b[0m\n\u001b[0m",
      "\u001b[1;32mnetCDF4\\_netCDF4.pyx\u001b[0m in \u001b[0;36mnetCDF4._netCDF4.Dataset.__getattr__\u001b[1;34m()\u001b[0m\n",
      "\u001b[1;32mnetCDF4\\_netCDF4.pyx\u001b[0m in \u001b[0;36mnetCDF4._netCDF4.Dataset.getncattr\u001b[1;34m()\u001b[0m\n",
      "\u001b[1;32mnetCDF4\\_netCDF4.pyx\u001b[0m in \u001b[0;36mnetCDF4._netCDF4._get_att\u001b[1;34m()\u001b[0m\n",
      "\u001b[1;32mnetCDF4\\_netCDF4.pyx\u001b[0m in \u001b[0;36mnetCDF4._netCDF4._ensure_nc_success\u001b[1;34m()\u001b[0m\n",
      "\u001b[1;31mAttributeError\u001b[0m: NetCDF: Attribute not found"
     ]
    }
   ],
   "source": [
    "# I think the problem is the '.' that's in the attribute name, when used in this way \n",
    "# Python3 seems to interpret the .NBeams as a method that it can't find.\n",
    "badnc.WavesMonCfg.NBeams"
   ]
  },
  {
   "cell_type": "code",
   "execution_count": 6,
   "metadata": {},
   "outputs": [
    {
     "name": "stdout",
     "output_type": "stream",
     "text": [
      "WavesMonCfg.NBeams found in global atts as list\n",
      "WavesMonCfg.NBeams found in global atts as dict\n"
     ]
    }
   ],
   "source": [
    "#this demonstrates the '.' in the attribute is OK in a list\n",
    "k='WavesMonCfg.NBeams'\n",
    "if k in badnc.ncattrs():\n",
    "    msg = k + ' found in global atts as list'\n",
    "    print(msg)\n",
    "#this demonstrates the '.' in the attribute is OK in a dict\n",
    "if k in badnc.__dict__:\n",
    "    msg = k + ' found in global atts as dict'\n",
    "    print(msg)\n"
   ]
  },
  {
   "cell_type": "code",
   "execution_count": 7,
   "metadata": {},
   "outputs": [
    {
     "name": "stdout",
     "output_type": "stream",
     "text": [
      "WavesMonCfg.Simulated_Sea_State_1__flat_wind_sea_swell_ found in global atts as list, value is 1.0\n",
      "WavesMonCfg.Simulated_Sea_State_1__flat_wind_sea_swell_ found in global atts as dict\n"
     ]
    }
   ],
   "source": [
    "# thought maybe the __ or maybe trailing _ were problems, but seems to work in both dict and list\n",
    "k='WavesMonCfg.Simulated_Sea_State_1__flat_wind_sea_swell_'\n",
    "if k in badnc.ncattrs():\n",
    "    msg = k + ' found in global atts as list, value is ' + str(globatt_dict[k])\n",
    "    print(msg)\n",
    "if k in badnc.__dict__:\n",
    "    msg = k + ' found in global atts as dict'\n",
    "    print(msg)\n"
   ]
  },
  {
   "cell_type": "markdown",
   "metadata": {
    "scrolled": false
   },
   "source": [
    "here's what I really need in the code to trap on all stellwagen expections"
   ]
  },
  {
   "cell_type": "code",
   "execution_count": 8,
   "metadata": {},
   "outputs": [],
   "source": [
    "fpath=\"https://stellwagen.er.usgs.gov/thredds/catalog/TSdata/SANDWICH2016/catalog.xml\"\n",
    "required_atts=('MOORING', 'INST_TYPE', 'serial_number')\n",
    "c = Crawl(fpath, select=[\".*nc\"])\n",
    "urls = [s.get(\"url\") for d in c.datasets for s in d.services if s.get(\"service\").lower() == \"opendap\"]"
   ]
  },
  {
   "cell_type": "code",
   "execution_count": 9,
   "metadata": {},
   "outputs": [
    {
     "name": "stdout",
     "output_type": "stream",
     "text": [
      "in SANDWICH2016/10591dw-a.nc mooring is 1059: there is a RBR Virtuouso D|wave; SN 055025\n",
      "in SANDWICH2016/10591dw-a.nc mooring is 1059: there is a RBR Virtuouso D|wave; SN 055025\n",
      "in SANDWICH2016/10591dwvs-cal.nc mooring is 1059: there is a RBR Virtuouso D|wave; SN 055025\n",
      "in SANDWICH2016/10591dwvs-cal.nc mooring is 1059: there is a RBR Virtuouso D|wave; SN 055025\n",
      "in SANDWICH2016/10601hwlb-a.nc mooring is 10601: there is a Hobo pressure logger; SN 10313354\n",
      "in SANDWICH2016/10601hwlb-a.nc mooring is 10601: there is a Hobo pressure logger; SN 10313354\n",
      "in SANDWICH2016/10602dw-a.nc mooring is 1060: there is a RBR Solo; SN 077669\n",
      "in SANDWICH2016/10602dw-a.nc mooring is 1060: there is a RBR Solo; SN 077669\n",
      "in SANDWICH2016/10612dw-a.nc mooring is 1061: there is a RBR Solo; SN 077827\n",
      "in SANDWICH2016/10612dw-a.nc mooring is 1061: there is a RBR Solo; SN 077827\n",
      "in SANDWICH2016/10622dw-a.nc mooring is 1062: there is a RBR Solo; SN 077828\n",
      "in SANDWICH2016/10622dw-a.nc mooring is 1062: there is a RBR Solo; SN 077828\n",
      "in SANDWICH2016/10631whV-a.nc it failed because one or more of the requred atts missing\n",
      "failed trying to read SANDWICH2016/10631whV-cal.nc\n",
      "in SANDWICH2016/10631whVp-cal.nc did not bomb but is missing one of the 3 atts\n",
      "in SANDWICH2016/10632mc-a.nc mooring is 1063: there is a Seabird mc 37 -SM; SN mc-0310\n",
      "in SANDWICH2016/10632mc-a.nc mooring is 1063: there is a Seabird mc 37 -SM; SN mc-0310\n",
      "in SANDWICH2016/10633ecn-a.nc did not bomb but is missing one of the 3 atts\n",
      "in SANDWICH2016/10634dwb-cal.nc mooring is 1063: there is a RBR Virtuouso D|wave; SN 55110\n",
      "in SANDWICH2016/10634dwb-cal.nc mooring is 1063: there is a RBR Virtuouso D|wave; SN 55110\n",
      "in SANDWICH2016/10634dws-a.nc it failed because one or more of the requred atts missing\n",
      "in SANDWICH2016/10691dw-a.nc mooring is 1069: there is a RBR Dwave; SN 55025\n",
      "in SANDWICH2016/10691dw-a.nc mooring is 1069: there is a RBR Dwave; SN 55025\n",
      "in SANDWICH2016/10691dwvs-cal.nc mooring is 1069: there is a RBR Dwave; SN 55025\n",
      "in SANDWICH2016/10691dwvs-cal.nc mooring is 1069: there is a RBR Dwave; SN 55025\n",
      "in SANDWICH2016/10701hwlb-a.nc mooring is 1070: there is a pressure logger; SN 10079950\n",
      "in SANDWICH2016/10701hwlb-a.nc mooring is 1070: there is a pressure logger; SN 10079950\n"
     ]
    }
   ],
   "source": [
    "for fn in urls:\n",
    "    spec_file = '/'.join(fn.rsplit('/', maxsplit=2)[1:])\n",
    "    try:\n",
    "        with nc.Dataset(fn) as fnc:\n",
    "            globatt_dict=fnc.__dict__\n",
    "            #globatt_list=fnc.ncattrs()    # don't need to do as a list\n",
    "            try:\n",
    "                if all(k in globatt_dict for k in required_atts):\n",
    "                    msg = 'in '+ spec_file + ' mooring is ' + globatt_dict['MOORING'] +': there is a '\\\n",
    "                           + globatt_dict['INST_TYPE'] +'; SN '+ globatt_dict['serial_number'] \n",
    "                    print (msg)\n",
    "                else:\n",
    "                    msg=\"in \"+ spec_file + \" did not bomb but is missing one of the 3 atts\"\n",
    "            except:\n",
    "                msg=\"in \" + spec_file +\" it failed because one or more of the requred atts missing\"\n",
    "            print(msg)\n",
    "    except OSError:\n",
    "            print('failed trying to read ' + spec_file)"
   ]
  },
  {
   "cell_type": "code",
   "execution_count": null,
   "metadata": {},
   "outputs": [],
   "source": []
  }
 ],
 "metadata": {
  "kernelspec": {
   "display_name": "Python [conda env:crawler]",
   "language": "python",
   "name": "conda-env-crawler-py"
  },
  "language_info": {
   "codemirror_mode": {
    "name": "ipython",
    "version": 3
   },
   "file_extension": ".py",
   "mimetype": "text/x-python",
   "name": "python",
   "nbconvert_exporter": "python",
   "pygments_lexer": "ipython3",
   "version": "3.6.6"
  }
 },
 "nbformat": 4,
 "nbformat_minor": 2
}
